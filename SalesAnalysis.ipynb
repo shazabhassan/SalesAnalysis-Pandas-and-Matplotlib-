{
 "cells": [
  {
   "cell_type": "code",
   "execution_count": 3,
   "metadata": {},
   "outputs": [],
   "source": [
    "import pandas as pd\n",
    "import os\n",
    "import numpy as np\n",
    "import matplotlib.pyplot as plt"
   ]
  },
  {
   "cell_type": "markdown",
   "metadata": {},
   "source": [
    "#### first we will merge the data that is divived into the months all into one dataset"
   ]
  },
  {
   "cell_type": "code",
   "execution_count": 4,
   "metadata": {},
   "outputs": [],
   "source": [
    "\n",
    "files = [file for file in os.listdir(\"./SalesAnalysis/Sales_Data\")]\n",
    "\n",
    "all_months_data = pd.DataFrame()\n",
    "\n",
    "for file in files:\n",
    "    df = pd.read_csv(\"./SalesAnalysis/Sales_Data/\"+file)\n",
    "    all_months_data = pd.concat([all_months_data,df])\n",
    "\n",
    "all_months_data.to_csv(\"all_data.csv\",index=False)"
   ]
  },
  {
   "cell_type": "code",
   "execution_count": 5,
   "metadata": {},
   "outputs": [],
   "source": [
    "df = pd.read_csv(\"./all_data.csv\")"
   ]
  },
  {
   "cell_type": "code",
   "execution_count": 6,
   "metadata": {},
   "outputs": [
    {
     "data": {
      "text/html": [
       "<div>\n",
       "<style scoped>\n",
       "    .dataframe tbody tr th:only-of-type {\n",
       "        vertical-align: middle;\n",
       "    }\n",
       "\n",
       "    .dataframe tbody tr th {\n",
       "        vertical-align: top;\n",
       "    }\n",
       "\n",
       "    .dataframe thead th {\n",
       "        text-align: right;\n",
       "    }\n",
       "</style>\n",
       "<table border=\"1\" class=\"dataframe\">\n",
       "  <thead>\n",
       "    <tr style=\"text-align: right;\">\n",
       "      <th></th>\n",
       "      <th>Order ID</th>\n",
       "      <th>Product</th>\n",
       "      <th>Quantity Ordered</th>\n",
       "      <th>Price Each</th>\n",
       "      <th>Order Date</th>\n",
       "      <th>Purchase Address</th>\n",
       "    </tr>\n",
       "  </thead>\n",
       "  <tbody>\n",
       "    <tr>\n",
       "      <th>0</th>\n",
       "      <td>176558</td>\n",
       "      <td>USB-C Charging Cable</td>\n",
       "      <td>2</td>\n",
       "      <td>11.95</td>\n",
       "      <td>04/19/19 08:46</td>\n",
       "      <td>917 1st St, Dallas, TX 75001</td>\n",
       "    </tr>\n",
       "    <tr>\n",
       "      <th>1</th>\n",
       "      <td>NaN</td>\n",
       "      <td>NaN</td>\n",
       "      <td>NaN</td>\n",
       "      <td>NaN</td>\n",
       "      <td>NaN</td>\n",
       "      <td>NaN</td>\n",
       "    </tr>\n",
       "    <tr>\n",
       "      <th>2</th>\n",
       "      <td>176559</td>\n",
       "      <td>Bose SoundSport Headphones</td>\n",
       "      <td>1</td>\n",
       "      <td>99.99</td>\n",
       "      <td>04/07/19 22:30</td>\n",
       "      <td>682 Chestnut St, Boston, MA 02215</td>\n",
       "    </tr>\n",
       "    <tr>\n",
       "      <th>3</th>\n",
       "      <td>176560</td>\n",
       "      <td>Google Phone</td>\n",
       "      <td>1</td>\n",
       "      <td>600</td>\n",
       "      <td>04/12/19 14:38</td>\n",
       "      <td>669 Spruce St, Los Angeles, CA 90001</td>\n",
       "    </tr>\n",
       "    <tr>\n",
       "      <th>4</th>\n",
       "      <td>176560</td>\n",
       "      <td>Wired Headphones</td>\n",
       "      <td>1</td>\n",
       "      <td>11.99</td>\n",
       "      <td>04/12/19 14:38</td>\n",
       "      <td>669 Spruce St, Los Angeles, CA 90001</td>\n",
       "    </tr>\n",
       "  </tbody>\n",
       "</table>\n",
       "</div>"
      ],
      "text/plain": [
       "  Order ID                     Product Quantity Ordered Price Each  \\\n",
       "0   176558        USB-C Charging Cable                2      11.95   \n",
       "1      NaN                         NaN              NaN        NaN   \n",
       "2   176559  Bose SoundSport Headphones                1      99.99   \n",
       "3   176560                Google Phone                1        600   \n",
       "4   176560            Wired Headphones                1      11.99   \n",
       "\n",
       "       Order Date                      Purchase Address  \n",
       "0  04/19/19 08:46          917 1st St, Dallas, TX 75001  \n",
       "1             NaN                                   NaN  \n",
       "2  04/07/19 22:30     682 Chestnut St, Boston, MA 02215  \n",
       "3  04/12/19 14:38  669 Spruce St, Los Angeles, CA 90001  \n",
       "4  04/12/19 14:38  669 Spruce St, Los Angeles, CA 90001  "
      ]
     },
     "execution_count": 6,
     "metadata": {},
     "output_type": "execute_result"
    }
   ],
   "source": [
    "df.head()"
   ]
  },
  {
   "cell_type": "markdown",
   "metadata": {},
   "source": [
    "### cleaning data"
   ]
  },
  {
   "cell_type": "code",
   "execution_count": 7,
   "metadata": {},
   "outputs": [
    {
     "data": {
      "text/plain": [
       "Order ID            545\n",
       "Product             545\n",
       "Quantity Ordered    545\n",
       "Price Each          545\n",
       "Order Date          545\n",
       "Purchase Address    545\n",
       "dtype: int64"
      ]
     },
     "execution_count": 7,
     "metadata": {},
     "output_type": "execute_result"
    }
   ],
   "source": [
    "df.isna().sum()"
   ]
  },
  {
   "cell_type": "markdown",
   "metadata": {},
   "source": [
    "### we can delete from rows which have all missing values."
   ]
  },
  {
   "cell_type": "code",
   "execution_count": 8,
   "metadata": {},
   "outputs": [],
   "source": [
    "df = df.dropna(axis=\"index\", how=\"all\")"
   ]
  },
  {
   "cell_type": "code",
   "execution_count": 9,
   "metadata": {},
   "outputs": [
    {
     "data": {
      "text/plain": [
       "Order ID            0\n",
       "Product             0\n",
       "Quantity Ordered    0\n",
       "Price Each          0\n",
       "Order Date          0\n",
       "Purchase Address    0\n",
       "dtype: int64"
      ]
     },
     "execution_count": 9,
     "metadata": {},
     "output_type": "execute_result"
    }
   ],
   "source": [
    "df.isna().sum()"
   ]
  },
  {
   "cell_type": "markdown",
   "metadata": {},
   "source": [
    "### all the NaN values have been cleared out, but to be safe we can check whether there are other words that where not identified as NaN"
   ]
  },
  {
   "cell_type": "code",
   "execution_count": 10,
   "metadata": {},
   "outputs": [
    {
     "name": "stdout",
     "output_type": "stream",
     "text": [
      "<class 'pandas.core.frame.DataFrame'>\n",
      "Int64Index: 186305 entries, 0 to 186849\n",
      "Data columns (total 6 columns):\n",
      " #   Column            Non-Null Count   Dtype \n",
      "---  ------            --------------   ----- \n",
      " 0   Order ID          186305 non-null  object\n",
      " 1   Product           186305 non-null  object\n",
      " 2   Quantity Ordered  186305 non-null  object\n",
      " 3   Price Each        186305 non-null  object\n",
      " 4   Order Date        186305 non-null  object\n",
      " 5   Purchase Address  186305 non-null  object\n",
      "dtypes: object(6)\n",
      "memory usage: 9.9+ MB\n"
     ]
    }
   ],
   "source": [
    "df.info()"
   ]
  },
  {
   "cell_type": "code",
   "execution_count": 11,
   "metadata": {},
   "outputs": [
    {
     "data": {
      "text/plain": [
       "array(['USB-C Charging Cable', 'Bose SoundSport Headphones',\n",
       "       'Google Phone', 'Wired Headphones', 'Macbook Pro Laptop',\n",
       "       'Lightning Charging Cable', '27in 4K Gaming Monitor',\n",
       "       'AA Batteries (4-pack)', 'Apple Airpods Headphones',\n",
       "       'AAA Batteries (4-pack)', 'iPhone', 'Flatscreen TV',\n",
       "       '27in FHD Monitor', '20in Monitor', 'LG Dryer', 'ThinkPad Laptop',\n",
       "       'Vareebadd Phone', 'LG Washing Machine', '34in Ultrawide Monitor',\n",
       "       'Product'], dtype=object)"
      ]
     },
     "execution_count": 11,
     "metadata": {},
     "output_type": "execute_result"
    }
   ],
   "source": [
    "df[\"Product\"].unique()"
   ]
  },
  {
   "cell_type": "code",
   "execution_count": 12,
   "metadata": {},
   "outputs": [
    {
     "data": {
      "text/plain": [
       "array(['2', '1', '3', '5', 'Quantity Ordered', '4', '7', '6', '8', '9'],\n",
       "      dtype=object)"
      ]
     },
     "execution_count": 12,
     "metadata": {},
     "output_type": "execute_result"
    }
   ],
   "source": [
    "df[\"Quantity Ordered\"].unique()"
   ]
  },
  {
   "cell_type": "code",
   "execution_count": 13,
   "metadata": {},
   "outputs": [
    {
     "data": {
      "text/plain": [
       "array(['11.95', '99.99', '600', '11.99', '1700', '14.95', '389.99',\n",
       "       '3.84', '150', '2.99', '700', '300', '149.99', '109.99', '600.0',\n",
       "       '999.99', '400', '379.99', 'Price Each', '700.0', '1700.0',\n",
       "       '150.0', '300.0', '400.0'], dtype=object)"
      ]
     },
     "execution_count": 13,
     "metadata": {},
     "output_type": "execute_result"
    }
   ],
   "source": [
    "df[\"Price Each\"].unique()"
   ]
  },
  {
   "cell_type": "code",
   "execution_count": 14,
   "metadata": {},
   "outputs": [
    {
     "data": {
      "text/plain": [
       "array(['917 1st St, Dallas, TX 75001',\n",
       "       '682 Chestnut St, Boston, MA 02215',\n",
       "       '669 Spruce St, Los Angeles, CA 90001', ...,\n",
       "       '981 4th St, New York City, NY 10001',\n",
       "       '840 Highland St, Los Angeles, CA 90001',\n",
       "       '220 12th St, San Francisco, CA 94016'], dtype=object)"
      ]
     },
     "execution_count": 14,
     "metadata": {},
     "output_type": "execute_result"
    }
   ],
   "source": [
    "df[\"Purchase Address\"].unique()"
   ]
  },
  {
   "cell_type": "markdown",
   "metadata": {},
   "source": [
    "### after looking at all the unique values we can determine that theer are rows which are copies of the header, these should also be deleted."
   ]
  },
  {
   "cell_type": "code",
   "execution_count": 15,
   "metadata": {},
   "outputs": [
    {
     "data": {
      "text/html": [
       "<div>\n",
       "<style scoped>\n",
       "    .dataframe tbody tr th:only-of-type {\n",
       "        vertical-align: middle;\n",
       "    }\n",
       "\n",
       "    .dataframe tbody tr th {\n",
       "        vertical-align: top;\n",
       "    }\n",
       "\n",
       "    .dataframe thead th {\n",
       "        text-align: right;\n",
       "    }\n",
       "</style>\n",
       "<table border=\"1\" class=\"dataframe\">\n",
       "  <thead>\n",
       "    <tr style=\"text-align: right;\">\n",
       "      <th></th>\n",
       "      <th>Order ID</th>\n",
       "      <th>Product</th>\n",
       "      <th>Quantity Ordered</th>\n",
       "      <th>Price Each</th>\n",
       "      <th>Order Date</th>\n",
       "      <th>Purchase Address</th>\n",
       "    </tr>\n",
       "  </thead>\n",
       "  <tbody>\n",
       "    <tr>\n",
       "      <th>519</th>\n",
       "      <td>Order ID</td>\n",
       "      <td>Product</td>\n",
       "      <td>Quantity Ordered</td>\n",
       "      <td>Price Each</td>\n",
       "      <td>Order Date</td>\n",
       "      <td>Purchase Address</td>\n",
       "    </tr>\n",
       "    <tr>\n",
       "      <th>1149</th>\n",
       "      <td>Order ID</td>\n",
       "      <td>Product</td>\n",
       "      <td>Quantity Ordered</td>\n",
       "      <td>Price Each</td>\n",
       "      <td>Order Date</td>\n",
       "      <td>Purchase Address</td>\n",
       "    </tr>\n",
       "    <tr>\n",
       "      <th>1155</th>\n",
       "      <td>Order ID</td>\n",
       "      <td>Product</td>\n",
       "      <td>Quantity Ordered</td>\n",
       "      <td>Price Each</td>\n",
       "      <td>Order Date</td>\n",
       "      <td>Purchase Address</td>\n",
       "    </tr>\n",
       "    <tr>\n",
       "      <th>2878</th>\n",
       "      <td>Order ID</td>\n",
       "      <td>Product</td>\n",
       "      <td>Quantity Ordered</td>\n",
       "      <td>Price Each</td>\n",
       "      <td>Order Date</td>\n",
       "      <td>Purchase Address</td>\n",
       "    </tr>\n",
       "    <tr>\n",
       "      <th>2893</th>\n",
       "      <td>Order ID</td>\n",
       "      <td>Product</td>\n",
       "      <td>Quantity Ordered</td>\n",
       "      <td>Price Each</td>\n",
       "      <td>Order Date</td>\n",
       "      <td>Purchase Address</td>\n",
       "    </tr>\n",
       "    <tr>\n",
       "      <th>...</th>\n",
       "      <td>...</td>\n",
       "      <td>...</td>\n",
       "      <td>...</td>\n",
       "      <td>...</td>\n",
       "      <td>...</td>\n",
       "      <td>...</td>\n",
       "    </tr>\n",
       "    <tr>\n",
       "      <th>185164</th>\n",
       "      <td>Order ID</td>\n",
       "      <td>Product</td>\n",
       "      <td>Quantity Ordered</td>\n",
       "      <td>Price Each</td>\n",
       "      <td>Order Date</td>\n",
       "      <td>Purchase Address</td>\n",
       "    </tr>\n",
       "    <tr>\n",
       "      <th>185551</th>\n",
       "      <td>Order ID</td>\n",
       "      <td>Product</td>\n",
       "      <td>Quantity Ordered</td>\n",
       "      <td>Price Each</td>\n",
       "      <td>Order Date</td>\n",
       "      <td>Purchase Address</td>\n",
       "    </tr>\n",
       "    <tr>\n",
       "      <th>186563</th>\n",
       "      <td>Order ID</td>\n",
       "      <td>Product</td>\n",
       "      <td>Quantity Ordered</td>\n",
       "      <td>Price Each</td>\n",
       "      <td>Order Date</td>\n",
       "      <td>Purchase Address</td>\n",
       "    </tr>\n",
       "    <tr>\n",
       "      <th>186632</th>\n",
       "      <td>Order ID</td>\n",
       "      <td>Product</td>\n",
       "      <td>Quantity Ordered</td>\n",
       "      <td>Price Each</td>\n",
       "      <td>Order Date</td>\n",
       "      <td>Purchase Address</td>\n",
       "    </tr>\n",
       "    <tr>\n",
       "      <th>186738</th>\n",
       "      <td>Order ID</td>\n",
       "      <td>Product</td>\n",
       "      <td>Quantity Ordered</td>\n",
       "      <td>Price Each</td>\n",
       "      <td>Order Date</td>\n",
       "      <td>Purchase Address</td>\n",
       "    </tr>\n",
       "  </tbody>\n",
       "</table>\n",
       "<p>355 rows × 6 columns</p>\n",
       "</div>"
      ],
      "text/plain": [
       "        Order ID  Product  Quantity Ordered  Price Each  Order Date  \\\n",
       "519     Order ID  Product  Quantity Ordered  Price Each  Order Date   \n",
       "1149    Order ID  Product  Quantity Ordered  Price Each  Order Date   \n",
       "1155    Order ID  Product  Quantity Ordered  Price Each  Order Date   \n",
       "2878    Order ID  Product  Quantity Ordered  Price Each  Order Date   \n",
       "2893    Order ID  Product  Quantity Ordered  Price Each  Order Date   \n",
       "...          ...      ...               ...         ...         ...   \n",
       "185164  Order ID  Product  Quantity Ordered  Price Each  Order Date   \n",
       "185551  Order ID  Product  Quantity Ordered  Price Each  Order Date   \n",
       "186563  Order ID  Product  Quantity Ordered  Price Each  Order Date   \n",
       "186632  Order ID  Product  Quantity Ordered  Price Each  Order Date   \n",
       "186738  Order ID  Product  Quantity Ordered  Price Each  Order Date   \n",
       "\n",
       "        Purchase Address  \n",
       "519     Purchase Address  \n",
       "1149    Purchase Address  \n",
       "1155    Purchase Address  \n",
       "2878    Purchase Address  \n",
       "2893    Purchase Address  \n",
       "...                  ...  \n",
       "185164  Purchase Address  \n",
       "185551  Purchase Address  \n",
       "186563  Purchase Address  \n",
       "186632  Purchase Address  \n",
       "186738  Purchase Address  \n",
       "\n",
       "[355 rows x 6 columns]"
      ]
     },
     "execution_count": 15,
     "metadata": {},
     "output_type": "execute_result"
    }
   ],
   "source": [
    "df.loc[df[\"Product\"]==\"Product\"]"
   ]
  },
  {
   "cell_type": "code",
   "execution_count": 16,
   "metadata": {},
   "outputs": [
    {
     "data": {
      "text/html": [
       "<div>\n",
       "<style scoped>\n",
       "    .dataframe tbody tr th:only-of-type {\n",
       "        vertical-align: middle;\n",
       "    }\n",
       "\n",
       "    .dataframe tbody tr th {\n",
       "        vertical-align: top;\n",
       "    }\n",
       "\n",
       "    .dataframe thead th {\n",
       "        text-align: right;\n",
       "    }\n",
       "</style>\n",
       "<table border=\"1\" class=\"dataframe\">\n",
       "  <thead>\n",
       "    <tr style=\"text-align: right;\">\n",
       "      <th></th>\n",
       "      <th>Order ID</th>\n",
       "      <th>Product</th>\n",
       "      <th>Quantity Ordered</th>\n",
       "      <th>Price Each</th>\n",
       "      <th>Order Date</th>\n",
       "      <th>Purchase Address</th>\n",
       "    </tr>\n",
       "  </thead>\n",
       "  <tbody>\n",
       "    <tr>\n",
       "      <th>0</th>\n",
       "      <td>176558</td>\n",
       "      <td>USB-C Charging Cable</td>\n",
       "      <td>2</td>\n",
       "      <td>11.95</td>\n",
       "      <td>04/19/19 08:46</td>\n",
       "      <td>917 1st St, Dallas, TX 75001</td>\n",
       "    </tr>\n",
       "    <tr>\n",
       "      <th>2</th>\n",
       "      <td>176559</td>\n",
       "      <td>Bose SoundSport Headphones</td>\n",
       "      <td>1</td>\n",
       "      <td>99.99</td>\n",
       "      <td>04/07/19 22:30</td>\n",
       "      <td>682 Chestnut St, Boston, MA 02215</td>\n",
       "    </tr>\n",
       "    <tr>\n",
       "      <th>3</th>\n",
       "      <td>176560</td>\n",
       "      <td>Google Phone</td>\n",
       "      <td>1</td>\n",
       "      <td>600</td>\n",
       "      <td>04/12/19 14:38</td>\n",
       "      <td>669 Spruce St, Los Angeles, CA 90001</td>\n",
       "    </tr>\n",
       "    <tr>\n",
       "      <th>4</th>\n",
       "      <td>176560</td>\n",
       "      <td>Wired Headphones</td>\n",
       "      <td>1</td>\n",
       "      <td>11.99</td>\n",
       "      <td>04/12/19 14:38</td>\n",
       "      <td>669 Spruce St, Los Angeles, CA 90001</td>\n",
       "    </tr>\n",
       "    <tr>\n",
       "      <th>5</th>\n",
       "      <td>176561</td>\n",
       "      <td>Wired Headphones</td>\n",
       "      <td>1</td>\n",
       "      <td>11.99</td>\n",
       "      <td>04/30/19 09:27</td>\n",
       "      <td>333 8th St, Los Angeles, CA 90001</td>\n",
       "    </tr>\n",
       "    <tr>\n",
       "      <th>...</th>\n",
       "      <td>...</td>\n",
       "      <td>...</td>\n",
       "      <td>...</td>\n",
       "      <td>...</td>\n",
       "      <td>...</td>\n",
       "      <td>...</td>\n",
       "    </tr>\n",
       "    <tr>\n",
       "      <th>186845</th>\n",
       "      <td>259353</td>\n",
       "      <td>AAA Batteries (4-pack)</td>\n",
       "      <td>3</td>\n",
       "      <td>2.99</td>\n",
       "      <td>09/17/19 20:56</td>\n",
       "      <td>840 Highland St, Los Angeles, CA 90001</td>\n",
       "    </tr>\n",
       "    <tr>\n",
       "      <th>186846</th>\n",
       "      <td>259354</td>\n",
       "      <td>iPhone</td>\n",
       "      <td>1</td>\n",
       "      <td>700</td>\n",
       "      <td>09/01/19 16:00</td>\n",
       "      <td>216 Dogwood St, San Francisco, CA 94016</td>\n",
       "    </tr>\n",
       "    <tr>\n",
       "      <th>186847</th>\n",
       "      <td>259355</td>\n",
       "      <td>iPhone</td>\n",
       "      <td>1</td>\n",
       "      <td>700</td>\n",
       "      <td>09/23/19 07:39</td>\n",
       "      <td>220 12th St, San Francisco, CA 94016</td>\n",
       "    </tr>\n",
       "    <tr>\n",
       "      <th>186848</th>\n",
       "      <td>259356</td>\n",
       "      <td>34in Ultrawide Monitor</td>\n",
       "      <td>1</td>\n",
       "      <td>379.99</td>\n",
       "      <td>09/19/19 17:30</td>\n",
       "      <td>511 Forest St, San Francisco, CA 94016</td>\n",
       "    </tr>\n",
       "    <tr>\n",
       "      <th>186849</th>\n",
       "      <td>259357</td>\n",
       "      <td>USB-C Charging Cable</td>\n",
       "      <td>1</td>\n",
       "      <td>11.95</td>\n",
       "      <td>09/30/19 00:18</td>\n",
       "      <td>250 Meadow St, San Francisco, CA 94016</td>\n",
       "    </tr>\n",
       "  </tbody>\n",
       "</table>\n",
       "<p>185950 rows × 6 columns</p>\n",
       "</div>"
      ],
      "text/plain": [
       "       Order ID                     Product Quantity Ordered Price Each  \\\n",
       "0        176558        USB-C Charging Cable                2      11.95   \n",
       "2        176559  Bose SoundSport Headphones                1      99.99   \n",
       "3        176560                Google Phone                1        600   \n",
       "4        176560            Wired Headphones                1      11.99   \n",
       "5        176561            Wired Headphones                1      11.99   \n",
       "...         ...                         ...              ...        ...   \n",
       "186845   259353      AAA Batteries (4-pack)                3       2.99   \n",
       "186846   259354                      iPhone                1        700   \n",
       "186847   259355                      iPhone                1        700   \n",
       "186848   259356      34in Ultrawide Monitor                1     379.99   \n",
       "186849   259357        USB-C Charging Cable                1      11.95   \n",
       "\n",
       "            Order Date                         Purchase Address  \n",
       "0       04/19/19 08:46             917 1st St, Dallas, TX 75001  \n",
       "2       04/07/19 22:30        682 Chestnut St, Boston, MA 02215  \n",
       "3       04/12/19 14:38     669 Spruce St, Los Angeles, CA 90001  \n",
       "4       04/12/19 14:38     669 Spruce St, Los Angeles, CA 90001  \n",
       "5       04/30/19 09:27        333 8th St, Los Angeles, CA 90001  \n",
       "...                ...                                      ...  \n",
       "186845  09/17/19 20:56   840 Highland St, Los Angeles, CA 90001  \n",
       "186846  09/01/19 16:00  216 Dogwood St, San Francisco, CA 94016  \n",
       "186847  09/23/19 07:39     220 12th St, San Francisco, CA 94016  \n",
       "186848  09/19/19 17:30   511 Forest St, San Francisco, CA 94016  \n",
       "186849  09/30/19 00:18   250 Meadow St, San Francisco, CA 94016  \n",
       "\n",
       "[185950 rows x 6 columns]"
      ]
     },
     "execution_count": 16,
     "metadata": {},
     "output_type": "execute_result"
    }
   ],
   "source": [
    "df[df[\"Product\"]!=\"Product\"]"
   ]
  },
  {
   "cell_type": "markdown",
   "metadata": {},
   "source": [
    "### we will here remove all the rows where the header is repeated"
   ]
  },
  {
   "cell_type": "code",
   "execution_count": 17,
   "metadata": {},
   "outputs": [],
   "source": [
    "df = df[df[\"Product\"]!=\"Product\"]"
   ]
  },
  {
   "cell_type": "code",
   "execution_count": 18,
   "metadata": {},
   "outputs": [
    {
     "data": {
      "text/plain": [
       "array(['USB-C Charging Cable', 'Bose SoundSport Headphones',\n",
       "       'Google Phone', 'Wired Headphones', 'Macbook Pro Laptop',\n",
       "       'Lightning Charging Cable', '27in 4K Gaming Monitor',\n",
       "       'AA Batteries (4-pack)', 'Apple Airpods Headphones',\n",
       "       'AAA Batteries (4-pack)', 'iPhone', 'Flatscreen TV',\n",
       "       '27in FHD Monitor', '20in Monitor', 'LG Dryer', 'ThinkPad Laptop',\n",
       "       'Vareebadd Phone', 'LG Washing Machine', '34in Ultrawide Monitor'],\n",
       "      dtype=object)"
      ]
     },
     "execution_count": 18,
     "metadata": {},
     "output_type": "execute_result"
    }
   ],
   "source": [
    "df[\"Product\"].unique()"
   ]
  },
  {
   "cell_type": "markdown",
   "metadata": {},
   "source": [
    "# Data handling"
   ]
  },
  {
   "cell_type": "markdown",
   "metadata": {},
   "source": [
    "## Splitting columns"
   ]
  },
  {
   "cell_type": "code",
   "execution_count": 19,
   "metadata": {},
   "outputs": [
    {
     "data": {
      "text/html": [
       "<div>\n",
       "<style scoped>\n",
       "    .dataframe tbody tr th:only-of-type {\n",
       "        vertical-align: middle;\n",
       "    }\n",
       "\n",
       "    .dataframe tbody tr th {\n",
       "        vertical-align: top;\n",
       "    }\n",
       "\n",
       "    .dataframe thead th {\n",
       "        text-align: right;\n",
       "    }\n",
       "</style>\n",
       "<table border=\"1\" class=\"dataframe\">\n",
       "  <thead>\n",
       "    <tr style=\"text-align: right;\">\n",
       "      <th></th>\n",
       "      <th>Order ID</th>\n",
       "      <th>Product</th>\n",
       "      <th>Quantity Ordered</th>\n",
       "      <th>Price Each</th>\n",
       "      <th>Order Date</th>\n",
       "      <th>Purchase Address</th>\n",
       "    </tr>\n",
       "  </thead>\n",
       "  <tbody>\n",
       "    <tr>\n",
       "      <th>count</th>\n",
       "      <td>185950</td>\n",
       "      <td>185950</td>\n",
       "      <td>185950</td>\n",
       "      <td>185950</td>\n",
       "      <td>185950</td>\n",
       "      <td>185950</td>\n",
       "    </tr>\n",
       "    <tr>\n",
       "      <th>unique</th>\n",
       "      <td>178437</td>\n",
       "      <td>19</td>\n",
       "      <td>9</td>\n",
       "      <td>23</td>\n",
       "      <td>142395</td>\n",
       "      <td>140787</td>\n",
       "    </tr>\n",
       "    <tr>\n",
       "      <th>top</th>\n",
       "      <td>160873</td>\n",
       "      <td>USB-C Charging Cable</td>\n",
       "      <td>1</td>\n",
       "      <td>11.95</td>\n",
       "      <td>12/15/19 20:16</td>\n",
       "      <td>193 Forest St, San Francisco, CA 94016</td>\n",
       "    </tr>\n",
       "    <tr>\n",
       "      <th>freq</th>\n",
       "      <td>5</td>\n",
       "      <td>21903</td>\n",
       "      <td>168552</td>\n",
       "      <td>21903</td>\n",
       "      <td>8</td>\n",
       "      <td>9</td>\n",
       "    </tr>\n",
       "  </tbody>\n",
       "</table>\n",
       "</div>"
      ],
      "text/plain": [
       "       Order ID               Product Quantity Ordered Price Each  \\\n",
       "count    185950                185950           185950     185950   \n",
       "unique   178437                    19                9         23   \n",
       "top      160873  USB-C Charging Cable                1      11.95   \n",
       "freq          5                 21903           168552      21903   \n",
       "\n",
       "            Order Date                        Purchase Address  \n",
       "count           185950                                  185950  \n",
       "unique          142395                                  140787  \n",
       "top     12/15/19 20:16  193 Forest St, San Francisco, CA 94016  \n",
       "freq                 8                                       9  "
      ]
     },
     "execution_count": 19,
     "metadata": {},
     "output_type": "execute_result"
    }
   ],
   "source": [
    "df.describe()"
   ]
  },
  {
   "cell_type": "markdown",
   "metadata": {},
   "source": [
    "#### we can split the purhase adress column so that we can separe the city from the state amd the house adress"
   ]
  },
  {
   "cell_type": "code",
   "execution_count": 20,
   "metadata": {},
   "outputs": [
    {
     "data": {
      "text/plain": [
       "0                    [917 1st St, Dallas, TX 75001]\n",
       "2               [682 Chestnut St, Boston, MA 02215]\n",
       "3            [669 Spruce St, Los Angeles, CA 90001]\n",
       "4            [669 Spruce St, Los Angeles, CA 90001]\n",
       "5               [333 8th St, Los Angeles, CA 90001]\n",
       "                            ...                    \n",
       "186845     [840 Highland St, Los Angeles, CA 90001]\n",
       "186846    [216 Dogwood St, San Francisco, CA 94016]\n",
       "186847       [220 12th St, San Francisco, CA 94016]\n",
       "186848     [511 Forest St, San Francisco, CA 94016]\n",
       "186849     [250 Meadow St, San Francisco, CA 94016]\n",
       "Name: Purchase Address, Length: 185950, dtype: object"
      ]
     },
     "execution_count": 20,
     "metadata": {},
     "output_type": "execute_result"
    }
   ],
   "source": [
    "df[\"Purchase Address\"].str.split(\", \")"
   ]
  },
  {
   "cell_type": "code",
   "execution_count": 21,
   "metadata": {},
   "outputs": [
    {
     "data": {
      "text/html": [
       "<div>\n",
       "<style scoped>\n",
       "    .dataframe tbody tr th:only-of-type {\n",
       "        vertical-align: middle;\n",
       "    }\n",
       "\n",
       "    .dataframe tbody tr th {\n",
       "        vertical-align: top;\n",
       "    }\n",
       "\n",
       "    .dataframe thead th {\n",
       "        text-align: right;\n",
       "    }\n",
       "</style>\n",
       "<table border=\"1\" class=\"dataframe\">\n",
       "  <thead>\n",
       "    <tr style=\"text-align: right;\">\n",
       "      <th></th>\n",
       "      <th>0</th>\n",
       "      <th>1</th>\n",
       "      <th>2</th>\n",
       "    </tr>\n",
       "  </thead>\n",
       "  <tbody>\n",
       "    <tr>\n",
       "      <th>0</th>\n",
       "      <td>917 1st St</td>\n",
       "      <td>Dallas</td>\n",
       "      <td>TX 75001</td>\n",
       "    </tr>\n",
       "    <tr>\n",
       "      <th>2</th>\n",
       "      <td>682 Chestnut St</td>\n",
       "      <td>Boston</td>\n",
       "      <td>MA 02215</td>\n",
       "    </tr>\n",
       "    <tr>\n",
       "      <th>3</th>\n",
       "      <td>669 Spruce St</td>\n",
       "      <td>Los Angeles</td>\n",
       "      <td>CA 90001</td>\n",
       "    </tr>\n",
       "    <tr>\n",
       "      <th>4</th>\n",
       "      <td>669 Spruce St</td>\n",
       "      <td>Los Angeles</td>\n",
       "      <td>CA 90001</td>\n",
       "    </tr>\n",
       "    <tr>\n",
       "      <th>5</th>\n",
       "      <td>333 8th St</td>\n",
       "      <td>Los Angeles</td>\n",
       "      <td>CA 90001</td>\n",
       "    </tr>\n",
       "    <tr>\n",
       "      <th>...</th>\n",
       "      <td>...</td>\n",
       "      <td>...</td>\n",
       "      <td>...</td>\n",
       "    </tr>\n",
       "    <tr>\n",
       "      <th>186845</th>\n",
       "      <td>840 Highland St</td>\n",
       "      <td>Los Angeles</td>\n",
       "      <td>CA 90001</td>\n",
       "    </tr>\n",
       "    <tr>\n",
       "      <th>186846</th>\n",
       "      <td>216 Dogwood St</td>\n",
       "      <td>San Francisco</td>\n",
       "      <td>CA 94016</td>\n",
       "    </tr>\n",
       "    <tr>\n",
       "      <th>186847</th>\n",
       "      <td>220 12th St</td>\n",
       "      <td>San Francisco</td>\n",
       "      <td>CA 94016</td>\n",
       "    </tr>\n",
       "    <tr>\n",
       "      <th>186848</th>\n",
       "      <td>511 Forest St</td>\n",
       "      <td>San Francisco</td>\n",
       "      <td>CA 94016</td>\n",
       "    </tr>\n",
       "    <tr>\n",
       "      <th>186849</th>\n",
       "      <td>250 Meadow St</td>\n",
       "      <td>San Francisco</td>\n",
       "      <td>CA 94016</td>\n",
       "    </tr>\n",
       "  </tbody>\n",
       "</table>\n",
       "<p>185950 rows × 3 columns</p>\n",
       "</div>"
      ],
      "text/plain": [
       "                      0              1         2\n",
       "0            917 1st St         Dallas  TX 75001\n",
       "2       682 Chestnut St         Boston  MA 02215\n",
       "3         669 Spruce St    Los Angeles  CA 90001\n",
       "4         669 Spruce St    Los Angeles  CA 90001\n",
       "5            333 8th St    Los Angeles  CA 90001\n",
       "...                 ...            ...       ...\n",
       "186845  840 Highland St    Los Angeles  CA 90001\n",
       "186846   216 Dogwood St  San Francisco  CA 94016\n",
       "186847      220 12th St  San Francisco  CA 94016\n",
       "186848    511 Forest St  San Francisco  CA 94016\n",
       "186849    250 Meadow St  San Francisco  CA 94016\n",
       "\n",
       "[185950 rows x 3 columns]"
      ]
     },
     "execution_count": 21,
     "metadata": {},
     "output_type": "execute_result"
    }
   ],
   "source": [
    "df[\"Purchase Address\"].str.split(\", \",expand=True)"
   ]
  },
  {
   "cell_type": "markdown",
   "metadata": {},
   "source": [
    "#### after confirming that the split was successfull we can create new columns in the original dataframe"
   ]
  },
  {
   "cell_type": "code",
   "execution_count": 22,
   "metadata": {},
   "outputs": [],
   "source": [
    "df[[\"Address\",\"City\",\"State and Zip-code\"]] = df[\"Purchase Address\"].str.split(\", \",expand=True)"
   ]
  },
  {
   "cell_type": "code",
   "execution_count": 23,
   "metadata": {},
   "outputs": [],
   "source": [
    "df.drop(columns=\"Purchase Address\",inplace=True)"
   ]
  },
  {
   "cell_type": "markdown",
   "metadata": {},
   "source": [
    "#### we can split this column into just state and zip code alone"
   ]
  },
  {
   "cell_type": "code",
   "execution_count": 24,
   "metadata": {},
   "outputs": [
    {
     "data": {
      "text/plain": [
       "array(['TX 75001', 'MA 02215', 'CA 90001', 'CA 94016', 'WA 98101',\n",
       "       'GA 30301', 'NY 10001', 'OR 97035', 'TX 73301', 'ME 04101'],\n",
       "      dtype=object)"
      ]
     },
     "execution_count": 24,
     "metadata": {},
     "output_type": "execute_result"
    }
   ],
   "source": [
    "df[\"State and Zip-code\"].unique()"
   ]
  },
  {
   "cell_type": "code",
   "execution_count": 25,
   "metadata": {},
   "outputs": [],
   "source": [
    "df[[\"State\",\"Zip code\"]] = df[\"State and Zip-code\"].str.split(\" \",expand=True)"
   ]
  },
  {
   "cell_type": "code",
   "execution_count": 26,
   "metadata": {},
   "outputs": [],
   "source": [
    "df.drop(columns=\"State and Zip-code\",inplace=True)"
   ]
  },
  {
   "cell_type": "markdown",
   "metadata": {},
   "source": [
    "#### changing the name of the column Price each to unit price"
   ]
  },
  {
   "cell_type": "code",
   "execution_count": 27,
   "metadata": {},
   "outputs": [],
   "source": [
    "df.rename(columns={\"Price Each\":\"Unit Price\"}, inplace=True)"
   ]
  },
  {
   "cell_type": "markdown",
   "metadata": {},
   "source": [
    "# Typecasting"
   ]
  },
  {
   "cell_type": "markdown",
   "metadata": {},
   "source": [
    "#### typecasting unit price to float for calculations"
   ]
  },
  {
   "cell_type": "code",
   "execution_count": 28,
   "metadata": {},
   "outputs": [],
   "source": [
    "df[\"Unit Price\"] = df[\"Unit Price\"].astype(float)"
   ]
  },
  {
   "cell_type": "markdown",
   "metadata": {},
   "source": [
    "#### Typecasting the order date column to date datatype"
   ]
  },
  {
   "cell_type": "code",
   "execution_count": 29,
   "metadata": {},
   "outputs": [],
   "source": [
    "df[\"Order Date\"]=pd.to_datetime(df[\"Order Date\"], format=\"%m/%d/%y %H:%M\")"
   ]
  },
  {
   "cell_type": "markdown",
   "metadata": {},
   "source": [
    "we can now create a class called time of day, where if time is between \n",
    "midnight to 12 = morning\n",
    "12 to 16 = afternoon\n",
    "16 to 24 = night"
   ]
  },
  {
   "cell_type": "markdown",
   "metadata": {},
   "source": [
    "we can first create a new column and label all the values "
   ]
  },
  {
   "cell_type": "code",
   "execution_count": 30,
   "metadata": {},
   "outputs": [],
   "source": [
    "df[\"Time Of Day\"] = \"\""
   ]
  },
  {
   "cell_type": "code",
   "execution_count": 31,
   "metadata": {},
   "outputs": [],
   "source": [
    "df.loc[df[\"Order Date\"].dt.hour <12,\"Time Of Day\"] = \"Morning\"\n",
    "df.loc[df[\"Order Date\"].dt.hour >=12,\"Time Of Day\"] = \"Afternoon\"\n",
    "df.loc[df[\"Order Date\"].dt.hour >=16,\"Time Of Day\"] = \"Night\""
   ]
  },
  {
   "cell_type": "code",
   "execution_count": 32,
   "metadata": {},
   "outputs": [
    {
     "data": {
      "text/html": [
       "<div>\n",
       "<style scoped>\n",
       "    .dataframe tbody tr th:only-of-type {\n",
       "        vertical-align: middle;\n",
       "    }\n",
       "\n",
       "    .dataframe tbody tr th {\n",
       "        vertical-align: top;\n",
       "    }\n",
       "\n",
       "    .dataframe thead th {\n",
       "        text-align: right;\n",
       "    }\n",
       "</style>\n",
       "<table border=\"1\" class=\"dataframe\">\n",
       "  <thead>\n",
       "    <tr style=\"text-align: right;\">\n",
       "      <th></th>\n",
       "      <th>Order ID</th>\n",
       "      <th>Product</th>\n",
       "      <th>Quantity Ordered</th>\n",
       "      <th>Unit Price</th>\n",
       "      <th>Order Date</th>\n",
       "      <th>Address</th>\n",
       "      <th>City</th>\n",
       "      <th>State</th>\n",
       "      <th>Zip code</th>\n",
       "      <th>Time Of Day</th>\n",
       "    </tr>\n",
       "  </thead>\n",
       "  <tbody>\n",
       "    <tr>\n",
       "      <th>0</th>\n",
       "      <td>176558</td>\n",
       "      <td>USB-C Charging Cable</td>\n",
       "      <td>2</td>\n",
       "      <td>11.95</td>\n",
       "      <td>2019-04-19 08:46:00</td>\n",
       "      <td>917 1st St</td>\n",
       "      <td>Dallas</td>\n",
       "      <td>TX</td>\n",
       "      <td>75001</td>\n",
       "      <td>Morning</td>\n",
       "    </tr>\n",
       "    <tr>\n",
       "      <th>2</th>\n",
       "      <td>176559</td>\n",
       "      <td>Bose SoundSport Headphones</td>\n",
       "      <td>1</td>\n",
       "      <td>99.99</td>\n",
       "      <td>2019-04-07 22:30:00</td>\n",
       "      <td>682 Chestnut St</td>\n",
       "      <td>Boston</td>\n",
       "      <td>MA</td>\n",
       "      <td>02215</td>\n",
       "      <td>Night</td>\n",
       "    </tr>\n",
       "    <tr>\n",
       "      <th>3</th>\n",
       "      <td>176560</td>\n",
       "      <td>Google Phone</td>\n",
       "      <td>1</td>\n",
       "      <td>600.00</td>\n",
       "      <td>2019-04-12 14:38:00</td>\n",
       "      <td>669 Spruce St</td>\n",
       "      <td>Los Angeles</td>\n",
       "      <td>CA</td>\n",
       "      <td>90001</td>\n",
       "      <td>Afternoon</td>\n",
       "    </tr>\n",
       "    <tr>\n",
       "      <th>4</th>\n",
       "      <td>176560</td>\n",
       "      <td>Wired Headphones</td>\n",
       "      <td>1</td>\n",
       "      <td>11.99</td>\n",
       "      <td>2019-04-12 14:38:00</td>\n",
       "      <td>669 Spruce St</td>\n",
       "      <td>Los Angeles</td>\n",
       "      <td>CA</td>\n",
       "      <td>90001</td>\n",
       "      <td>Afternoon</td>\n",
       "    </tr>\n",
       "    <tr>\n",
       "      <th>5</th>\n",
       "      <td>176561</td>\n",
       "      <td>Wired Headphones</td>\n",
       "      <td>1</td>\n",
       "      <td>11.99</td>\n",
       "      <td>2019-04-30 09:27:00</td>\n",
       "      <td>333 8th St</td>\n",
       "      <td>Los Angeles</td>\n",
       "      <td>CA</td>\n",
       "      <td>90001</td>\n",
       "      <td>Morning</td>\n",
       "    </tr>\n",
       "    <tr>\n",
       "      <th>...</th>\n",
       "      <td>...</td>\n",
       "      <td>...</td>\n",
       "      <td>...</td>\n",
       "      <td>...</td>\n",
       "      <td>...</td>\n",
       "      <td>...</td>\n",
       "      <td>...</td>\n",
       "      <td>...</td>\n",
       "      <td>...</td>\n",
       "      <td>...</td>\n",
       "    </tr>\n",
       "    <tr>\n",
       "      <th>186845</th>\n",
       "      <td>259353</td>\n",
       "      <td>AAA Batteries (4-pack)</td>\n",
       "      <td>3</td>\n",
       "      <td>2.99</td>\n",
       "      <td>2019-09-17 20:56:00</td>\n",
       "      <td>840 Highland St</td>\n",
       "      <td>Los Angeles</td>\n",
       "      <td>CA</td>\n",
       "      <td>90001</td>\n",
       "      <td>Night</td>\n",
       "    </tr>\n",
       "    <tr>\n",
       "      <th>186846</th>\n",
       "      <td>259354</td>\n",
       "      <td>iPhone</td>\n",
       "      <td>1</td>\n",
       "      <td>700.00</td>\n",
       "      <td>2019-09-01 16:00:00</td>\n",
       "      <td>216 Dogwood St</td>\n",
       "      <td>San Francisco</td>\n",
       "      <td>CA</td>\n",
       "      <td>94016</td>\n",
       "      <td>Night</td>\n",
       "    </tr>\n",
       "    <tr>\n",
       "      <th>186847</th>\n",
       "      <td>259355</td>\n",
       "      <td>iPhone</td>\n",
       "      <td>1</td>\n",
       "      <td>700.00</td>\n",
       "      <td>2019-09-23 07:39:00</td>\n",
       "      <td>220 12th St</td>\n",
       "      <td>San Francisco</td>\n",
       "      <td>CA</td>\n",
       "      <td>94016</td>\n",
       "      <td>Morning</td>\n",
       "    </tr>\n",
       "    <tr>\n",
       "      <th>186848</th>\n",
       "      <td>259356</td>\n",
       "      <td>34in Ultrawide Monitor</td>\n",
       "      <td>1</td>\n",
       "      <td>379.99</td>\n",
       "      <td>2019-09-19 17:30:00</td>\n",
       "      <td>511 Forest St</td>\n",
       "      <td>San Francisco</td>\n",
       "      <td>CA</td>\n",
       "      <td>94016</td>\n",
       "      <td>Night</td>\n",
       "    </tr>\n",
       "    <tr>\n",
       "      <th>186849</th>\n",
       "      <td>259357</td>\n",
       "      <td>USB-C Charging Cable</td>\n",
       "      <td>1</td>\n",
       "      <td>11.95</td>\n",
       "      <td>2019-09-30 00:18:00</td>\n",
       "      <td>250 Meadow St</td>\n",
       "      <td>San Francisco</td>\n",
       "      <td>CA</td>\n",
       "      <td>94016</td>\n",
       "      <td>Morning</td>\n",
       "    </tr>\n",
       "  </tbody>\n",
       "</table>\n",
       "<p>185950 rows × 10 columns</p>\n",
       "</div>"
      ],
      "text/plain": [
       "       Order ID                     Product Quantity Ordered  Unit Price  \\\n",
       "0        176558        USB-C Charging Cable                2       11.95   \n",
       "2        176559  Bose SoundSport Headphones                1       99.99   \n",
       "3        176560                Google Phone                1      600.00   \n",
       "4        176560            Wired Headphones                1       11.99   \n",
       "5        176561            Wired Headphones                1       11.99   \n",
       "...         ...                         ...              ...         ...   \n",
       "186845   259353      AAA Batteries (4-pack)                3        2.99   \n",
       "186846   259354                      iPhone                1      700.00   \n",
       "186847   259355                      iPhone                1      700.00   \n",
       "186848   259356      34in Ultrawide Monitor                1      379.99   \n",
       "186849   259357        USB-C Charging Cable                1       11.95   \n",
       "\n",
       "                Order Date          Address           City State Zip code  \\\n",
       "0      2019-04-19 08:46:00       917 1st St         Dallas    TX    75001   \n",
       "2      2019-04-07 22:30:00  682 Chestnut St         Boston    MA    02215   \n",
       "3      2019-04-12 14:38:00    669 Spruce St    Los Angeles    CA    90001   \n",
       "4      2019-04-12 14:38:00    669 Spruce St    Los Angeles    CA    90001   \n",
       "5      2019-04-30 09:27:00       333 8th St    Los Angeles    CA    90001   \n",
       "...                    ...              ...            ...   ...      ...   \n",
       "186845 2019-09-17 20:56:00  840 Highland St    Los Angeles    CA    90001   \n",
       "186846 2019-09-01 16:00:00   216 Dogwood St  San Francisco    CA    94016   \n",
       "186847 2019-09-23 07:39:00      220 12th St  San Francisco    CA    94016   \n",
       "186848 2019-09-19 17:30:00    511 Forest St  San Francisco    CA    94016   \n",
       "186849 2019-09-30 00:18:00    250 Meadow St  San Francisco    CA    94016   \n",
       "\n",
       "       Time Of Day  \n",
       "0          Morning  \n",
       "2            Night  \n",
       "3        Afternoon  \n",
       "4        Afternoon  \n",
       "5          Morning  \n",
       "...            ...  \n",
       "186845       Night  \n",
       "186846       Night  \n",
       "186847     Morning  \n",
       "186848       Night  \n",
       "186849     Morning  \n",
       "\n",
       "[185950 rows x 10 columns]"
      ]
     },
     "execution_count": 32,
     "metadata": {},
     "output_type": "execute_result"
    }
   ],
   "source": [
    "df"
   ]
  },
  {
   "cell_type": "markdown",
   "metadata": {},
   "source": [
    "#### typecasting the Quantity columnt to an intiger"
   ]
  },
  {
   "cell_type": "code",
   "execution_count": 33,
   "metadata": {},
   "outputs": [],
   "source": [
    "df[\"Quantity Ordered\"] = pd.to_numeric(df[\"Quantity Ordered\"])"
   ]
  },
  {
   "cell_type": "code",
   "execution_count": 34,
   "metadata": {},
   "outputs": [],
   "source": [
    "df.rename(columns={\"Quantity Ordered\":\"Quantity\"},inplace=True)"
   ]
  },
  {
   "cell_type": "markdown",
   "metadata": {},
   "source": [
    "#### creating a column that combines the quantity and price per unit columns as total price"
   ]
  },
  {
   "cell_type": "code",
   "execution_count": 35,
   "metadata": {},
   "outputs": [],
   "source": [
    "df[\"Total Price\"] = df[\"Unit Price\"]*df[\"Quantity\"]"
   ]
  },
  {
   "cell_type": "markdown",
   "metadata": {},
   "source": [
    "before we continue we can reorder the columns so the table looks more clear"
   ]
  },
  {
   "cell_type": "code",
   "execution_count": 36,
   "metadata": {},
   "outputs": [
    {
     "data": {
      "text/plain": [
       "Index(['Order ID', 'Product', 'Quantity', 'Unit Price', 'Order Date',\n",
       "       'Address', 'City', 'State', 'Zip code', 'Time Of Day', 'Total Price'],\n",
       "      dtype='object')"
      ]
     },
     "execution_count": 36,
     "metadata": {},
     "output_type": "execute_result"
    }
   ],
   "source": [
    "df.columns"
   ]
  },
  {
   "cell_type": "code",
   "execution_count": 37,
   "metadata": {},
   "outputs": [],
   "source": [
    "new_order = ['Order ID', 'Product', 'Quantity', 'Unit Price', 'Total Price',\n",
    "       'Address', 'State','City', 'Zip code', 'Order Date','Time Of Day']"
   ]
  },
  {
   "cell_type": "code",
   "execution_count": 38,
   "metadata": {},
   "outputs": [],
   "source": [
    "df = df[new_order]"
   ]
  },
  {
   "cell_type": "code",
   "execution_count": 39,
   "metadata": {},
   "outputs": [
    {
     "data": {
      "text/html": [
       "<div>\n",
       "<style scoped>\n",
       "    .dataframe tbody tr th:only-of-type {\n",
       "        vertical-align: middle;\n",
       "    }\n",
       "\n",
       "    .dataframe tbody tr th {\n",
       "        vertical-align: top;\n",
       "    }\n",
       "\n",
       "    .dataframe thead th {\n",
       "        text-align: right;\n",
       "    }\n",
       "</style>\n",
       "<table border=\"1\" class=\"dataframe\">\n",
       "  <thead>\n",
       "    <tr style=\"text-align: right;\">\n",
       "      <th></th>\n",
       "      <th>Order ID</th>\n",
       "      <th>Product</th>\n",
       "      <th>Quantity</th>\n",
       "      <th>Unit Price</th>\n",
       "      <th>Total Price</th>\n",
       "      <th>Address</th>\n",
       "      <th>State</th>\n",
       "      <th>City</th>\n",
       "      <th>Zip code</th>\n",
       "      <th>Order Date</th>\n",
       "      <th>Time Of Day</th>\n",
       "    </tr>\n",
       "  </thead>\n",
       "  <tbody>\n",
       "    <tr>\n",
       "      <th>0</th>\n",
       "      <td>176558</td>\n",
       "      <td>USB-C Charging Cable</td>\n",
       "      <td>2</td>\n",
       "      <td>11.95</td>\n",
       "      <td>23.90</td>\n",
       "      <td>917 1st St</td>\n",
       "      <td>TX</td>\n",
       "      <td>Dallas</td>\n",
       "      <td>75001</td>\n",
       "      <td>2019-04-19 08:46:00</td>\n",
       "      <td>Morning</td>\n",
       "    </tr>\n",
       "    <tr>\n",
       "      <th>2</th>\n",
       "      <td>176559</td>\n",
       "      <td>Bose SoundSport Headphones</td>\n",
       "      <td>1</td>\n",
       "      <td>99.99</td>\n",
       "      <td>99.99</td>\n",
       "      <td>682 Chestnut St</td>\n",
       "      <td>MA</td>\n",
       "      <td>Boston</td>\n",
       "      <td>02215</td>\n",
       "      <td>2019-04-07 22:30:00</td>\n",
       "      <td>Night</td>\n",
       "    </tr>\n",
       "    <tr>\n",
       "      <th>3</th>\n",
       "      <td>176560</td>\n",
       "      <td>Google Phone</td>\n",
       "      <td>1</td>\n",
       "      <td>600.00</td>\n",
       "      <td>600.00</td>\n",
       "      <td>669 Spruce St</td>\n",
       "      <td>CA</td>\n",
       "      <td>Los Angeles</td>\n",
       "      <td>90001</td>\n",
       "      <td>2019-04-12 14:38:00</td>\n",
       "      <td>Afternoon</td>\n",
       "    </tr>\n",
       "    <tr>\n",
       "      <th>4</th>\n",
       "      <td>176560</td>\n",
       "      <td>Wired Headphones</td>\n",
       "      <td>1</td>\n",
       "      <td>11.99</td>\n",
       "      <td>11.99</td>\n",
       "      <td>669 Spruce St</td>\n",
       "      <td>CA</td>\n",
       "      <td>Los Angeles</td>\n",
       "      <td>90001</td>\n",
       "      <td>2019-04-12 14:38:00</td>\n",
       "      <td>Afternoon</td>\n",
       "    </tr>\n",
       "    <tr>\n",
       "      <th>5</th>\n",
       "      <td>176561</td>\n",
       "      <td>Wired Headphones</td>\n",
       "      <td>1</td>\n",
       "      <td>11.99</td>\n",
       "      <td>11.99</td>\n",
       "      <td>333 8th St</td>\n",
       "      <td>CA</td>\n",
       "      <td>Los Angeles</td>\n",
       "      <td>90001</td>\n",
       "      <td>2019-04-30 09:27:00</td>\n",
       "      <td>Morning</td>\n",
       "    </tr>\n",
       "    <tr>\n",
       "      <th>...</th>\n",
       "      <td>...</td>\n",
       "      <td>...</td>\n",
       "      <td>...</td>\n",
       "      <td>...</td>\n",
       "      <td>...</td>\n",
       "      <td>...</td>\n",
       "      <td>...</td>\n",
       "      <td>...</td>\n",
       "      <td>...</td>\n",
       "      <td>...</td>\n",
       "      <td>...</td>\n",
       "    </tr>\n",
       "    <tr>\n",
       "      <th>186845</th>\n",
       "      <td>259353</td>\n",
       "      <td>AAA Batteries (4-pack)</td>\n",
       "      <td>3</td>\n",
       "      <td>2.99</td>\n",
       "      <td>8.97</td>\n",
       "      <td>840 Highland St</td>\n",
       "      <td>CA</td>\n",
       "      <td>Los Angeles</td>\n",
       "      <td>90001</td>\n",
       "      <td>2019-09-17 20:56:00</td>\n",
       "      <td>Night</td>\n",
       "    </tr>\n",
       "    <tr>\n",
       "      <th>186846</th>\n",
       "      <td>259354</td>\n",
       "      <td>iPhone</td>\n",
       "      <td>1</td>\n",
       "      <td>700.00</td>\n",
       "      <td>700.00</td>\n",
       "      <td>216 Dogwood St</td>\n",
       "      <td>CA</td>\n",
       "      <td>San Francisco</td>\n",
       "      <td>94016</td>\n",
       "      <td>2019-09-01 16:00:00</td>\n",
       "      <td>Night</td>\n",
       "    </tr>\n",
       "    <tr>\n",
       "      <th>186847</th>\n",
       "      <td>259355</td>\n",
       "      <td>iPhone</td>\n",
       "      <td>1</td>\n",
       "      <td>700.00</td>\n",
       "      <td>700.00</td>\n",
       "      <td>220 12th St</td>\n",
       "      <td>CA</td>\n",
       "      <td>San Francisco</td>\n",
       "      <td>94016</td>\n",
       "      <td>2019-09-23 07:39:00</td>\n",
       "      <td>Morning</td>\n",
       "    </tr>\n",
       "    <tr>\n",
       "      <th>186848</th>\n",
       "      <td>259356</td>\n",
       "      <td>34in Ultrawide Monitor</td>\n",
       "      <td>1</td>\n",
       "      <td>379.99</td>\n",
       "      <td>379.99</td>\n",
       "      <td>511 Forest St</td>\n",
       "      <td>CA</td>\n",
       "      <td>San Francisco</td>\n",
       "      <td>94016</td>\n",
       "      <td>2019-09-19 17:30:00</td>\n",
       "      <td>Night</td>\n",
       "    </tr>\n",
       "    <tr>\n",
       "      <th>186849</th>\n",
       "      <td>259357</td>\n",
       "      <td>USB-C Charging Cable</td>\n",
       "      <td>1</td>\n",
       "      <td>11.95</td>\n",
       "      <td>11.95</td>\n",
       "      <td>250 Meadow St</td>\n",
       "      <td>CA</td>\n",
       "      <td>San Francisco</td>\n",
       "      <td>94016</td>\n",
       "      <td>2019-09-30 00:18:00</td>\n",
       "      <td>Morning</td>\n",
       "    </tr>\n",
       "  </tbody>\n",
       "</table>\n",
       "<p>185950 rows × 11 columns</p>\n",
       "</div>"
      ],
      "text/plain": [
       "       Order ID                     Product  Quantity  Unit Price  \\\n",
       "0        176558        USB-C Charging Cable         2       11.95   \n",
       "2        176559  Bose SoundSport Headphones         1       99.99   \n",
       "3        176560                Google Phone         1      600.00   \n",
       "4        176560            Wired Headphones         1       11.99   \n",
       "5        176561            Wired Headphones         1       11.99   \n",
       "...         ...                         ...       ...         ...   \n",
       "186845   259353      AAA Batteries (4-pack)         3        2.99   \n",
       "186846   259354                      iPhone         1      700.00   \n",
       "186847   259355                      iPhone         1      700.00   \n",
       "186848   259356      34in Ultrawide Monitor         1      379.99   \n",
       "186849   259357        USB-C Charging Cable         1       11.95   \n",
       "\n",
       "        Total Price          Address State           City Zip code  \\\n",
       "0             23.90       917 1st St    TX         Dallas    75001   \n",
       "2             99.99  682 Chestnut St    MA         Boston    02215   \n",
       "3            600.00    669 Spruce St    CA    Los Angeles    90001   \n",
       "4             11.99    669 Spruce St    CA    Los Angeles    90001   \n",
       "5             11.99       333 8th St    CA    Los Angeles    90001   \n",
       "...             ...              ...   ...            ...      ...   \n",
       "186845         8.97  840 Highland St    CA    Los Angeles    90001   \n",
       "186846       700.00   216 Dogwood St    CA  San Francisco    94016   \n",
       "186847       700.00      220 12th St    CA  San Francisco    94016   \n",
       "186848       379.99    511 Forest St    CA  San Francisco    94016   \n",
       "186849        11.95    250 Meadow St    CA  San Francisco    94016   \n",
       "\n",
       "                Order Date Time Of Day  \n",
       "0      2019-04-19 08:46:00     Morning  \n",
       "2      2019-04-07 22:30:00       Night  \n",
       "3      2019-04-12 14:38:00   Afternoon  \n",
       "4      2019-04-12 14:38:00   Afternoon  \n",
       "5      2019-04-30 09:27:00     Morning  \n",
       "...                    ...         ...  \n",
       "186845 2019-09-17 20:56:00       Night  \n",
       "186846 2019-09-01 16:00:00       Night  \n",
       "186847 2019-09-23 07:39:00     Morning  \n",
       "186848 2019-09-19 17:30:00       Night  \n",
       "186849 2019-09-30 00:18:00     Morning  \n",
       "\n",
       "[185950 rows x 11 columns]"
      ]
     },
     "execution_count": 39,
     "metadata": {},
     "output_type": "execute_result"
    }
   ],
   "source": [
    "df"
   ]
  },
  {
   "cell_type": "markdown",
   "metadata": {},
   "source": [
    "# Exploring Data"
   ]
  },
  {
   "cell_type": "code",
   "execution_count": 40,
   "metadata": {},
   "outputs": [
    {
     "data": {
      "text/html": [
       "<div>\n",
       "<style scoped>\n",
       "    .dataframe tbody tr th:only-of-type {\n",
       "        vertical-align: middle;\n",
       "    }\n",
       "\n",
       "    .dataframe tbody tr th {\n",
       "        vertical-align: top;\n",
       "    }\n",
       "\n",
       "    .dataframe thead th {\n",
       "        text-align: right;\n",
       "    }\n",
       "</style>\n",
       "<table border=\"1\" class=\"dataframe\">\n",
       "  <thead>\n",
       "    <tr style=\"text-align: right;\">\n",
       "      <th></th>\n",
       "      <th>Quantity</th>\n",
       "      <th>Unit Price</th>\n",
       "      <th>Total Price</th>\n",
       "    </tr>\n",
       "  </thead>\n",
       "  <tbody>\n",
       "    <tr>\n",
       "      <th>count</th>\n",
       "      <td>185950.000000</td>\n",
       "      <td>185950.000000</td>\n",
       "      <td>185950.000000</td>\n",
       "    </tr>\n",
       "    <tr>\n",
       "      <th>mean</th>\n",
       "      <td>1.124383</td>\n",
       "      <td>184.399735</td>\n",
       "      <td>185.490917</td>\n",
       "    </tr>\n",
       "    <tr>\n",
       "      <th>std</th>\n",
       "      <td>0.442793</td>\n",
       "      <td>332.731330</td>\n",
       "      <td>332.919771</td>\n",
       "    </tr>\n",
       "    <tr>\n",
       "      <th>min</th>\n",
       "      <td>1.000000</td>\n",
       "      <td>2.990000</td>\n",
       "      <td>2.990000</td>\n",
       "    </tr>\n",
       "    <tr>\n",
       "      <th>25%</th>\n",
       "      <td>1.000000</td>\n",
       "      <td>11.950000</td>\n",
       "      <td>11.950000</td>\n",
       "    </tr>\n",
       "    <tr>\n",
       "      <th>50%</th>\n",
       "      <td>1.000000</td>\n",
       "      <td>14.950000</td>\n",
       "      <td>14.950000</td>\n",
       "    </tr>\n",
       "    <tr>\n",
       "      <th>75%</th>\n",
       "      <td>1.000000</td>\n",
       "      <td>150.000000</td>\n",
       "      <td>150.000000</td>\n",
       "    </tr>\n",
       "    <tr>\n",
       "      <th>max</th>\n",
       "      <td>9.000000</td>\n",
       "      <td>1700.000000</td>\n",
       "      <td>3400.000000</td>\n",
       "    </tr>\n",
       "  </tbody>\n",
       "</table>\n",
       "</div>"
      ],
      "text/plain": [
       "            Quantity     Unit Price    Total Price\n",
       "count  185950.000000  185950.000000  185950.000000\n",
       "mean        1.124383     184.399735     185.490917\n",
       "std         0.442793     332.731330     332.919771\n",
       "min         1.000000       2.990000       2.990000\n",
       "25%         1.000000      11.950000      11.950000\n",
       "50%         1.000000      14.950000      14.950000\n",
       "75%         1.000000     150.000000     150.000000\n",
       "max         9.000000    1700.000000    3400.000000"
      ]
     },
     "execution_count": 40,
     "metadata": {},
     "output_type": "execute_result"
    }
   ],
   "source": [
    "df.describe()"
   ]
  },
  {
   "cell_type": "markdown",
   "metadata": {},
   "source": [
    "#### sales analysis by months"
   ]
  },
  {
   "cell_type": "markdown",
   "metadata": {},
   "source": [
    "first we will create a column with the month name for easier access"
   ]
  },
  {
   "cell_type": "code",
   "execution_count": 41,
   "metadata": {},
   "outputs": [
    {
     "name": "stderr",
     "output_type": "stream",
     "text": [
      "C:\\Users\\23851739\\AppData\\Local\\Temp\\ipykernel_29564\\3066278432.py:1: SettingWithCopyWarning: \n",
      "A value is trying to be set on a copy of a slice from a DataFrame.\n",
      "Try using .loc[row_indexer,col_indexer] = value instead\n",
      "\n",
      "See the caveats in the documentation: https://pandas.pydata.org/pandas-docs/stable/user_guide/indexing.html#returning-a-view-versus-a-copy\n",
      "  df[\"Month\"] = df[\"Order Date\"].dt.month_name()\n"
     ]
    }
   ],
   "source": [
    "df[\"Month\"] = df[\"Order Date\"].dt.month_name()"
   ]
  },
  {
   "cell_type": "markdown",
   "metadata": {},
   "source": [
    "becase we want to group our dataset by month, if we do it currently by using the new column January 2019 and January 2020 will be joined together, giving us false results, to comprimise we can separate them temporarily and analyse 2019 data and 2020 data individually as 2020 only include 1 day of data."
   ]
  },
  {
   "cell_type": "code",
   "execution_count": 42,
   "metadata": {},
   "outputs": [],
   "source": [
    "filt = (df[\"Order Date\"] >= \"2020\") \n",
    "data_2020 = df.loc[filt]\n",
    "data_2019 = df.loc[~filt]"
   ]
  },
  {
   "cell_type": "code",
   "execution_count": 43,
   "metadata": {},
   "outputs": [],
   "source": [
    "month_grp_2019 = data_2019.groupby([\"Month\"])"
   ]
  },
  {
   "cell_type": "code",
   "execution_count": 44,
   "metadata": {},
   "outputs": [
    {
     "data": {
      "text/plain": [
       "Month\n",
       "December     4613443.34\n",
       "October      3736726.88\n",
       "April        3390670.24\n",
       "November     3199603.20\n",
       "May          3152606.75\n",
       "March        2807100.38\n",
       "July         2647775.76\n",
       "June         2577802.26\n",
       "August       2244467.88\n",
       "February     2202022.42\n",
       "September    2097560.13\n",
       "January      1813586.44\n",
       "Name: Total Price, dtype: float64"
      ]
     },
     "execution_count": 44,
     "metadata": {},
     "output_type": "execute_result"
    }
   ],
   "source": [
    "y = month_grp_2019[\"Total Price\"].sum().sort_values(ascending=False)\n",
    "y"
   ]
  },
  {
   "cell_type": "code",
   "execution_count": 45,
   "metadata": {},
   "outputs": [
    {
     "data": {
      "text/plain": [
       "Index(['December', 'October', 'April', 'November', 'May', 'March', 'July',\n",
       "       'June', 'August', 'February', 'September', 'January'],\n",
       "      dtype='object', name='Month')"
      ]
     },
     "execution_count": 45,
     "metadata": {},
     "output_type": "execute_result"
    }
   ],
   "source": [
    "x = y.index\n",
    "x"
   ]
  },
  {
   "cell_type": "code",
   "execution_count": 46,
   "metadata": {},
   "outputs": [
    {
     "data": {
      "image/png": "[encoded data removed]",
      "text/plain": [
       "<Figure size 1400x600 with 1 Axes>"
      ]
     },
     "metadata": {},
     "output_type": "display_data"
    }
   ],
   "source": [
    "plt.figure(figsize=(14,6))\n",
    "plt.title(\"Total Sales Per Month In 2019\")\n",
    "plt.bar(range(len(y)),y,0.8)\n",
    "plt.xticks(range(len(y)),x)\n",
    "\n",
    "plt.show()"
   ]
  },
  {
   "cell_type": "markdown",
   "metadata": {},
   "source": [
    "december is the month with the highest amount of sales, this could be dues to the Christmas."
   ]
  },
  {
   "cell_type": "markdown",
   "metadata": {},
   "source": [
    "#### sales analysis by products"
   ]
  },
  {
   "cell_type": "markdown",
   "metadata": {},
   "source": [
    "we can now check which item was sold the most throughout the year"
   ]
  },
  {
   "cell_type": "code",
   "execution_count": 47,
   "metadata": {},
   "outputs": [],
   "source": [
    "product_grp =  df.groupby([\"Product\"])"
   ]
  },
  {
   "cell_type": "code",
   "execution_count": 48,
   "metadata": {},
   "outputs": [
    {
     "data": {
      "text/plain": [
       "Product\n",
       "Macbook Pro Laptop            8037600.00\n",
       "iPhone                        4794300.00\n",
       "ThinkPad Laptop               4129958.70\n",
       "Google Phone                  3319200.00\n",
       "27in 4K Gaming Monitor        2435097.56\n",
       "34in Ultrawide Monitor        2355558.01\n",
       "Apple Airpods Headphones      2349150.00\n",
       "Flatscreen TV                 1445700.00\n",
       "Bose SoundSport Headphones    1345565.43\n",
       "27in FHD Monitor              1132424.50\n",
       "Vareebadd Phone                827200.00\n",
       "20in Monitor                   454148.71\n",
       "LG Washing Machine             399600.00\n",
       "LG Dryer                       387600.00\n",
       "Lightning Charging Cable       347094.15\n",
       "USB-C Charging Cable           286501.25\n",
       "Wired Headphones               246478.43\n",
       "AA Batteries (4-pack)          106118.40\n",
       "AAA Batteries (4-pack)          92740.83\n",
       "Name: Total Price, dtype: float64"
      ]
     },
     "execution_count": 48,
     "metadata": {},
     "output_type": "execute_result"
    }
   ],
   "source": [
    "y = product_grp[\"Total Price\"].sum().sort_values(ascending=False)\n",
    "y"
   ]
  },
  {
   "cell_type": "code",
   "execution_count": 49,
   "metadata": {},
   "outputs": [
    {
     "data": {
      "image/png": "[encoded data removed]",
      "text/plain": [
       "<Figure size 1400x600 with 1 Axes>"
      ]
     },
     "metadata": {},
     "output_type": "display_data"
    }
   ],
   "source": [
    "x = y.index\n",
    "x\n",
    "\n",
    "plt.figure(figsize=(14,6))\n",
    "plt.title(\"Total Sales Per Product In 2019 (only top 6 are shown)\")\n",
    "plt.bar(range(6),y[:6],0.8)\n",
    "plt.xticks(range(6),x[:6])\n",
    "\n",
    "\n",
    "plt.show()"
   ]
  },
  {
   "cell_type": "code",
   "execution_count": 50,
   "metadata": {},
   "outputs": [
    {
     "data": {
      "text/plain": [
       "Product\n",
       "AAA Batteries (4-pack)        31017\n",
       "AA Batteries (4-pack)         27635\n",
       "USB-C Charging Cable          23975\n",
       "Lightning Charging Cable      23217\n",
       "Wired Headphones              20557\n",
       "Apple Airpods Headphones      15661\n",
       "Bose SoundSport Headphones    13457\n",
       "27in FHD Monitor               7550\n",
       "iPhone                         6849\n",
       "27in 4K Gaming Monitor         6244\n",
       "34in Ultrawide Monitor         6199\n",
       "Google Phone                   5532\n",
       "Flatscreen TV                  4819\n",
       "Macbook Pro Laptop             4728\n",
       "ThinkPad Laptop                4130\n",
       "20in Monitor                   4129\n",
       "Vareebadd Phone                2068\n",
       "LG Washing Machine              666\n",
       "LG Dryer                        646\n",
       "Name: Quantity, dtype: int64"
      ]
     },
     "execution_count": 50,
     "metadata": {},
     "output_type": "execute_result"
    }
   ],
   "source": [
    "y =product_grp[\"Quantity\"].sum().sort_values(ascending=False)\n",
    "y"
   ]
  },
  {
   "cell_type": "code",
   "execution_count": 51,
   "metadata": {},
   "outputs": [
    {
     "data": {
      "image/png": "[encoded data removed]",
      "text/plain": [
       "<Figure size 1400x600 with 1 Axes>"
      ]
     },
     "metadata": {},
     "output_type": "display_data"
    }
   ],
   "source": [
    "x = y.index\n",
    "x\n",
    "\n",
    "plt.figure(figsize=(14,6))\n",
    "plt.title(\"Total Quantity Sold Per Product In 2019 (only top 6 are shown)\")\n",
    "plt.bar(range(6),y[:6],0.8)\n",
    "plt.xticks(range(6),x[:6])\n",
    "\n",
    "\n",
    "plt.show()"
   ]
  },
  {
   "cell_type": "markdown",
   "metadata": {},
   "source": [
    "The item that sold the most was AAA Batteries, this could be because they are widely used product in lot of electronically operated toys and other accessories such as mouses,keyboards,etc..."
   ]
  },
  {
   "cell_type": "markdown",
   "metadata": {},
   "source": [
    "due to the high variation in the prices of each product the tables for sum of sales and sum of quantity sold look completely different"
   ]
  },
  {
   "cell_type": "markdown",
   "metadata": {},
   "source": [
    "we can check which product was sold the most and which product genereted more money during the month with highest sales which is December"
   ]
  },
  {
   "cell_type": "markdown",
   "metadata": {},
   "source": [
    "Total price"
   ]
  },
  {
   "cell_type": "code",
   "execution_count": 52,
   "metadata": {},
   "outputs": [
    {
     "data": {
      "text/plain": [
       "Product\n",
       "Macbook Pro Laptop            1093100.00\n",
       "iPhone                         634200.00\n",
       "ThinkPad Laptop                538994.61\n",
       "Google Phone                   429000.00\n",
       "27in 4K Gaming Monitor         336951.36\n",
       "34in Ultrawide Monitor         322611.51\n",
       "Apple Airpods Headphones       311400.00\n",
       "Flatscreen TV                  199800.00\n",
       "Bose SoundSport Headphones     182381.76\n",
       "27in FHD Monitor               144290.38\n",
       "Vareebadd Phone                113600.00\n",
       "20in Monitor                    62584.31\n",
       "LG Dryer                        51600.00\n",
       "LG Washing Machine              48000.00\n",
       "Lightning Charging Cable        46150.65\n",
       "USB-C Charging Cable            38837.50\n",
       "Wired Headphones                32960.51\n",
       "AA Batteries (4-pack)           14300.16\n",
       "AAA Batteries (4-pack)          12680.59\n",
       "dtype: float64"
      ]
     },
     "execution_count": 52,
     "metadata": {},
     "output_type": "execute_result"
    }
   ],
   "source": [
    "y = product_grp.apply(lambda x:x[x[\"Month\"]==\"December\"][\"Total Price\"].sum()).sort_values(ascending=False)\n",
    "y"
   ]
  },
  {
   "cell_type": "code",
   "execution_count": 53,
   "metadata": {},
   "outputs": [
    {
     "data": {
      "image/png": "[encoded data removed]",
      "text/plain": [
       "<Figure size 1400x600 with 1 Axes>"
      ]
     },
     "metadata": {},
     "output_type": "display_data"
    }
   ],
   "source": [
    "x = y.index\n",
    "x\n",
    "\n",
    "plt.figure(figsize=(14,6))\n",
    "plt.title(\"Total Sales Per Product In December 2019 (only top 6 are shown)\")\n",
    "plt.bar(range(6),y[:6],0.8)\n",
    "plt.xticks(range(6),x[:6])\n",
    "\n",
    "plt.show()"
   ]
  },
  {
   "cell_type": "markdown",
   "metadata": {},
   "source": [
    "Quantity sold"
   ]
  },
  {
   "cell_type": "code",
   "execution_count": 54,
   "metadata": {},
   "outputs": [
    {
     "data": {
      "text/plain": [
       "Product\n",
       "AAA Batteries (4-pack)        4241\n",
       "AA Batteries (4-pack)         3724\n",
       "USB-C Charging Cable          3250\n",
       "Lightning Charging Cable      3087\n",
       "Wired Headphones              2749\n",
       "Apple Airpods Headphones      2076\n",
       "Bose SoundSport Headphones    1824\n",
       "27in FHD Monitor               962\n",
       "iPhone                         906\n",
       "27in 4K Gaming Monitor         864\n",
       "34in Ultrawide Monitor         849\n",
       "Google Phone                   715\n",
       "Flatscreen TV                  666\n",
       "Macbook Pro Laptop             643\n",
       "20in Monitor                   569\n",
       "ThinkPad Laptop                539\n",
       "Vareebadd Phone                284\n",
       "LG Dryer                        86\n",
       "LG Washing Machine              80\n",
       "dtype: int64"
      ]
     },
     "execution_count": 54,
     "metadata": {},
     "output_type": "execute_result"
    }
   ],
   "source": [
    "y = product_grp.apply(lambda x:x[x[\"Month\"]==\"December\"][\"Quantity\"].sum()).sort_values(ascending=False)\n",
    "y"
   ]
  },
  {
   "cell_type": "code",
   "execution_count": 55,
   "metadata": {},
   "outputs": [
    {
     "data": {
      "image/png": "[encoded data removed]",
      "text/plain": [
       "<Figure size 1400x600 with 1 Axes>"
      ]
     },
     "metadata": {},
     "output_type": "display_data"
    }
   ],
   "source": [
    "x = y.index\n",
    "x\n",
    "\n",
    "plt.figure(figsize=(14,6))\n",
    "plt.title(\"Total Quantity Sold Per Product In December 2019 (only top 6 are shown)\")\n",
    "plt.bar(range(6),y[:6],0.8)\n",
    "plt.xticks(range(6),x[:6])\n",
    "\n",
    "plt.show()"
   ]
  },
  {
   "cell_type": "markdown",
   "metadata": {},
   "source": [
    "### Sales analysis by City"
   ]
  },
  {
   "cell_type": "code",
   "execution_count": 56,
   "metadata": {},
   "outputs": [],
   "source": [
    "City_grp = df.groupby([\"City\"])"
   ]
  },
  {
   "cell_type": "markdown",
   "metadata": {},
   "source": [
    "to find which city has sold the most products"
   ]
  },
  {
   "cell_type": "code",
   "execution_count": 57,
   "metadata": {},
   "outputs": [
    {
     "data": {
      "text/plain": [
       "City\n",
       "San Francisco    50239\n",
       "Los Angeles      33289\n",
       "New York City    27932\n",
       "Boston           22528\n",
       "Dallas           16730\n",
       "Atlanta          16602\n",
       "Seattle          16553\n",
       "Portland         14053\n",
       "Austin           11153\n",
       "Name: Quantity, dtype: int64"
      ]
     },
     "execution_count": 57,
     "metadata": {},
     "output_type": "execute_result"
    }
   ],
   "source": [
    "y = City_grp[\"Quantity\"].sum().sort_values(ascending=False)\n",
    "y"
   ]
  },
  {
   "cell_type": "code",
   "execution_count": 58,
   "metadata": {},
   "outputs": [
    {
     "data": {
      "image/png": "[encoded data removed]",
      "text/plain": [
       "<Figure size 1400x600 with 1 Axes>"
      ]
     },
     "metadata": {},
     "output_type": "display_data"
    }
   ],
   "source": [
    "x = y.index\n",
    "x\n",
    "\n",
    "plt.figure(figsize=(14,6))\n",
    "plt.title(\"Products Sold Per City In 2019\")\n",
    "plt.bar(range(len(y)),y,0.8)\n",
    "plt.xticks(range(len(y)),x)\n",
    "\n",
    "\n",
    "plt.show()"
   ]
  },
  {
   "cell_type": "markdown",
   "metadata": {},
   "source": [
    "to find which city contributed to highest sales"
   ]
  },
  {
   "cell_type": "code",
   "execution_count": 59,
   "metadata": {},
   "outputs": [
    {
     "data": {
      "text/plain": [
       "City\n",
       "San Francisco    8262203.91\n",
       "Los Angeles      5452570.80\n",
       "New York City    4664317.43\n",
       "Boston           3661642.01\n",
       "Atlanta          2795498.58\n",
       "Dallas           2767975.40\n",
       "Seattle          2747755.48\n",
       "Portland         2320490.61\n",
       "Austin           1819581.75\n",
       "Name: Total Price, dtype: float64"
      ]
     },
     "execution_count": 59,
     "metadata": {},
     "output_type": "execute_result"
    }
   ],
   "source": [
    "y = City_grp[\"Total Price\"].sum().sort_values(ascending=False)\n",
    "y"
   ]
  },
  {
   "cell_type": "code",
   "execution_count": 60,
   "metadata": {},
   "outputs": [
    {
     "data": {
      "image/png": "[encoded data removed]",
      "text/plain": [
       "<Figure size 1400x600 with 1 Axes>"
      ]
     },
     "metadata": {},
     "output_type": "display_data"
    }
   ],
   "source": [
    "x = y.index\n",
    "x\n",
    "\n",
    "plt.figure(figsize=(14,6))\n",
    "plt.title(\"Total Sales Per City In 2019\")\n",
    "plt.bar(range(len(y)),y,0.8)\n",
    "plt.xticks(range(len(y)),x)\n",
    "\n",
    "\n",
    "plt.show()"
   ]
  },
  {
   "cell_type": "markdown",
   "metadata": {},
   "source": [
    "now we will see what time of the day the most amount of sales happen so that the business can decide what time to put out their advertisements to maximise sales"
   ]
  },
  {
   "cell_type": "code",
   "execution_count": 61,
   "metadata": {},
   "outputs": [],
   "source": [
    "Time_grp = df.groupby(\"Time Of Day\")"
   ]
  },
  {
   "cell_type": "code",
   "execution_count": 62,
   "metadata": {},
   "outputs": [
    {
     "data": {
      "text/plain": [
       "Time Of Day\n",
       "Night        15776820.51\n",
       "Morning      10217781.99\n",
       "Afternoon     8497433.47\n",
       "Name: Total Price, dtype: float64"
      ]
     },
     "execution_count": 62,
     "metadata": {},
     "output_type": "execute_result"
    }
   ],
   "source": [
    "y = Time_grp[\"Total Price\"].sum().sort_values(ascending=False) \n",
    "y"
   ]
  },
  {
   "cell_type": "code",
   "execution_count": 63,
   "metadata": {},
   "outputs": [
    {
     "data": {
      "image/png": "[encoded data removed]",
      "text/plain": [
       "<Figure size 1400x600 with 1 Axes>"
      ]
     },
     "metadata": {},
     "output_type": "display_data"
    }
   ],
   "source": [
    "x = y.index\n",
    "x\n",
    "\n",
    "plt.figure(figsize=(14,6))\n",
    "plt.title(\"Sales Per Time Of Day In 2019\")\n",
    "plt.bar(range(len(y)),y,0.3)\n",
    "plt.xticks(range(len(y)),x)\n",
    "\n",
    "plt.show()"
   ]
  },
  {
   "cell_type": "code",
   "execution_count": 64,
   "metadata": {},
   "outputs": [
    {
     "name": "stderr",
     "output_type": "stream",
     "text": [
      "C:\\Users\\23851739\\AppData\\Local\\Temp\\ipykernel_29564\\3827408274.py:1: SettingWithCopyWarning: \n",
      "A value is trying to be set on a copy of a slice from a DataFrame.\n",
      "Try using .loc[row_indexer,col_indexer] = value instead\n",
      "\n",
      "See the caveats in the documentation: https://pandas.pydata.org/pandas-docs/stable/user_guide/indexing.html#returning-a-view-versus-a-copy\n",
      "  df[\"Hour\"] =  df[\"Order Date\"].dt.hour\n"
     ]
    }
   ],
   "source": [
    "df[\"Hour\"] =  df[\"Order Date\"].dt.hour"
   ]
  },
  {
   "cell_type": "code",
   "execution_count": 65,
   "metadata": {},
   "outputs": [],
   "source": [
    "grp_hours = df.groupby(\"Hour\")"
   ]
  },
  {
   "cell_type": "code",
   "execution_count": 66,
   "metadata": {},
   "outputs": [],
   "source": [
    "y = grp_hours[\"Order ID\"].count()\n",
    "x = grp_hours[\"Order ID\"].count().index"
   ]
  },
  {
   "cell_type": "code",
   "execution_count": 67,
   "metadata": {},
   "outputs": [
    {
     "data": {
      "text/plain": [
       "Hour\n",
       "0      3910\n",
       "1      2350\n",
       "2      1243\n",
       "3       831\n",
       "4       854\n",
       "5      1321\n",
       "6      2482\n",
       "7      4011\n",
       "8      6256\n",
       "9      8748\n",
       "10    10944\n",
       "11    12411\n",
       "12    12587\n",
       "13    12129\n",
       "14    10984\n",
       "15    10175\n",
       "16    10384\n",
       "17    10899\n",
       "18    12280\n",
       "19    12905\n",
       "20    12228\n",
       "21    10921\n",
       "22     8822\n",
       "23     6275\n",
       "Name: Order ID, dtype: int64"
      ]
     },
     "execution_count": 67,
     "metadata": {},
     "output_type": "execute_result"
    }
   ],
   "source": [
    "y"
   ]
  },
  {
   "cell_type": "code",
   "execution_count": 68,
   "metadata": {},
   "outputs": [
    {
     "data": {
      "text/plain": [
       "Int64Index([ 0,  1,  2,  3,  4,  5,  6,  7,  8,  9, 10, 11, 12, 13, 14, 15, 16,\n",
       "            17, 18, 19, 20, 21, 22, 23],\n",
       "           dtype='int64', name='Hour')"
      ]
     },
     "execution_count": 68,
     "metadata": {},
     "output_type": "execute_result"
    }
   ],
   "source": [
    "x"
   ]
  },
  {
   "cell_type": "code",
   "execution_count": 69,
   "metadata": {},
   "outputs": [
    {
     "data": {
      "text/plain": [
       "<function matplotlib.pyplot.show(close=None, block=None)>"
      ]
     },
     "execution_count": 69,
     "metadata": {},
     "output_type": "execute_result"
    },
    {
     "data": {
      "image/png": "[encoded data removed]",
      "text/plain": [
       "<Figure size 640x480 with 1 Axes>"
      ]
     },
     "metadata": {},
     "output_type": "display_data"
    }
   ],
   "source": [
    "plt.plot(x,y)\n",
    "\n",
    "\n",
    "plt.grid()\n",
    "plt.tight_layout()\n",
    "plt.xticks(range(len(x)),x)\n",
    "plt.show"
   ]
  },
  {
   "cell_type": "code",
   "execution_count": 90,
   "metadata": {},
   "outputs": [
    {
     "data": {
      "image/png": "[encoded data removed]",
      "text/plain": [
       "<Figure size 1600x900 with 2 Axes>"
      ]
     },
     "metadata": {},
     "output_type": "display_data"
    }
   ],
   "source": [
    "y_normalisation = (y - y.min()/y.max()-y.min())\n",
    "plt.figure(figsize=(16,9))\n",
    "plt.scatter(x,y,c=y_normalisation,cmap=\"magma\",s=100)\n",
    "\n",
    "\n",
    "plt.colorbar()\n",
    "plt.grid()\n",
    "plt.xticks(range(len(x)),x)\n",
    "plt.tight_layout()\n",
    "plt.show()\n"
   ]
  },
  {
   "cell_type": "code",
   "execution_count": 71,
   "metadata": {},
   "outputs": [
    {
     "data": {
      "text/html": [
       "<div>\n",
       "<style scoped>\n",
       "    .dataframe tbody tr th:only-of-type {\n",
       "        vertical-align: middle;\n",
       "    }\n",
       "\n",
       "    .dataframe tbody tr th {\n",
       "        vertical-align: top;\n",
       "    }\n",
       "\n",
       "    .dataframe thead th {\n",
       "        text-align: right;\n",
       "    }\n",
       "</style>\n",
       "<table border=\"1\" class=\"dataframe\">\n",
       "  <thead>\n",
       "    <tr style=\"text-align: right;\">\n",
       "      <th></th>\n",
       "      <th>Order ID</th>\n",
       "      <th>Product</th>\n",
       "      <th>Quantity</th>\n",
       "      <th>Unit Price</th>\n",
       "      <th>Total Price</th>\n",
       "      <th>Address</th>\n",
       "      <th>State</th>\n",
       "      <th>City</th>\n",
       "      <th>Zip code</th>\n",
       "      <th>Order Date</th>\n",
       "      <th>Time Of Day</th>\n",
       "      <th>Month</th>\n",
       "      <th>Hour</th>\n",
       "    </tr>\n",
       "  </thead>\n",
       "  <tbody>\n",
       "    <tr>\n",
       "      <th>0</th>\n",
       "      <td>176558</td>\n",
       "      <td>USB-C Charging Cable</td>\n",
       "      <td>2</td>\n",
       "      <td>11.95</td>\n",
       "      <td>23.90</td>\n",
       "      <td>917 1st St</td>\n",
       "      <td>TX</td>\n",
       "      <td>Dallas</td>\n",
       "      <td>75001</td>\n",
       "      <td>2019-04-19 08:46:00</td>\n",
       "      <td>Morning</td>\n",
       "      <td>April</td>\n",
       "      <td>8</td>\n",
       "    </tr>\n",
       "    <tr>\n",
       "      <th>2</th>\n",
       "      <td>176559</td>\n",
       "      <td>Bose SoundSport Headphones</td>\n",
       "      <td>1</td>\n",
       "      <td>99.99</td>\n",
       "      <td>99.99</td>\n",
       "      <td>682 Chestnut St</td>\n",
       "      <td>MA</td>\n",
       "      <td>Boston</td>\n",
       "      <td>02215</td>\n",
       "      <td>2019-04-07 22:30:00</td>\n",
       "      <td>Night</td>\n",
       "      <td>April</td>\n",
       "      <td>22</td>\n",
       "    </tr>\n",
       "    <tr>\n",
       "      <th>3</th>\n",
       "      <td>176560</td>\n",
       "      <td>Google Phone</td>\n",
       "      <td>1</td>\n",
       "      <td>600.00</td>\n",
       "      <td>600.00</td>\n",
       "      <td>669 Spruce St</td>\n",
       "      <td>CA</td>\n",
       "      <td>Los Angeles</td>\n",
       "      <td>90001</td>\n",
       "      <td>2019-04-12 14:38:00</td>\n",
       "      <td>Afternoon</td>\n",
       "      <td>April</td>\n",
       "      <td>14</td>\n",
       "    </tr>\n",
       "    <tr>\n",
       "      <th>4</th>\n",
       "      <td>176560</td>\n",
       "      <td>Wired Headphones</td>\n",
       "      <td>1</td>\n",
       "      <td>11.99</td>\n",
       "      <td>11.99</td>\n",
       "      <td>669 Spruce St</td>\n",
       "      <td>CA</td>\n",
       "      <td>Los Angeles</td>\n",
       "      <td>90001</td>\n",
       "      <td>2019-04-12 14:38:00</td>\n",
       "      <td>Afternoon</td>\n",
       "      <td>April</td>\n",
       "      <td>14</td>\n",
       "    </tr>\n",
       "    <tr>\n",
       "      <th>5</th>\n",
       "      <td>176561</td>\n",
       "      <td>Wired Headphones</td>\n",
       "      <td>1</td>\n",
       "      <td>11.99</td>\n",
       "      <td>11.99</td>\n",
       "      <td>333 8th St</td>\n",
       "      <td>CA</td>\n",
       "      <td>Los Angeles</td>\n",
       "      <td>90001</td>\n",
       "      <td>2019-04-30 09:27:00</td>\n",
       "      <td>Morning</td>\n",
       "      <td>April</td>\n",
       "      <td>9</td>\n",
       "    </tr>\n",
       "  </tbody>\n",
       "</table>\n",
       "</div>"
      ],
      "text/plain": [
       "  Order ID                     Product  Quantity  Unit Price  Total Price  \\\n",
       "0   176558        USB-C Charging Cable         2       11.95        23.90   \n",
       "2   176559  Bose SoundSport Headphones         1       99.99        99.99   \n",
       "3   176560                Google Phone         1      600.00       600.00   \n",
       "4   176560            Wired Headphones         1       11.99        11.99   \n",
       "5   176561            Wired Headphones         1       11.99        11.99   \n",
       "\n",
       "           Address State         City Zip code          Order Date  \\\n",
       "0       917 1st St    TX       Dallas    75001 2019-04-19 08:46:00   \n",
       "2  682 Chestnut St    MA       Boston    02215 2019-04-07 22:30:00   \n",
       "3    669 Spruce St    CA  Los Angeles    90001 2019-04-12 14:38:00   \n",
       "4    669 Spruce St    CA  Los Angeles    90001 2019-04-12 14:38:00   \n",
       "5       333 8th St    CA  Los Angeles    90001 2019-04-30 09:27:00   \n",
       "\n",
       "  Time Of Day  Month  Hour  \n",
       "0     Morning  April     8  \n",
       "2       Night  April    22  \n",
       "3   Afternoon  April    14  \n",
       "4   Afternoon  April    14  \n",
       "5     Morning  April     9  "
      ]
     },
     "execution_count": 71,
     "metadata": {},
     "output_type": "execute_result"
    }
   ],
   "source": [
    "df.head()"
   ]
  },
  {
   "cell_type": "markdown",
   "metadata": {},
   "source": [
    "The time of the day where most of the sales occur is during the night time hence the advertisements should be posted between afternoon and night time hence the optimal time range would be between  15pm to 17pm"
   ]
  },
  {
   "cell_type": "markdown",
   "metadata": {},
   "source": [
    "next we can check which items are often bought together"
   ]
  },
  {
   "cell_type": "code",
   "execution_count": 72,
   "metadata": {},
   "outputs": [
    {
     "name": "stderr",
     "output_type": "stream",
     "text": [
      "C:\\Users\\23851739\\AppData\\Local\\Temp\\ipykernel_29564\\2635855412.py:1: SettingWithCopyWarning: \n",
      "A value is trying to be set on a copy of a slice from a DataFrame.\n",
      "Try using .loc[row_indexer,col_indexer] = value instead\n",
      "\n",
      "See the caveats in the documentation: https://pandas.pydata.org/pandas-docs/stable/user_guide/indexing.html#returning-a-view-versus-a-copy\n",
      "  df[\"Order ID\"] = pd.to_numeric(df[\"Order ID\"])\n"
     ]
    }
   ],
   "source": [
    "df[\"Order ID\"] = pd.to_numeric(df[\"Order ID\"])"
   ]
  },
  {
   "cell_type": "code",
   "execution_count": 73,
   "metadata": {},
   "outputs": [],
   "source": [
    "duplicates = df[df[\"Order ID\"].duplicated(keep=False)]   # this looks for any rows that have the same order id and shows them all"
   ]
  },
  {
   "cell_type": "markdown",
   "metadata": {},
   "source": [
    "next up we will take all these duplicates and put the products together in one of the rows "
   ]
  },
  {
   "cell_type": "code",
   "execution_count": 74,
   "metadata": {},
   "outputs": [
    {
     "name": "stderr",
     "output_type": "stream",
     "text": [
      "C:\\Users\\23851739\\AppData\\Local\\Temp\\ipykernel_29564\\1781390027.py:1: SettingWithCopyWarning: \n",
      "A value is trying to be set on a copy of a slice from a DataFrame.\n",
      "Try using .loc[row_indexer,col_indexer] = value instead\n",
      "\n",
      "See the caveats in the documentation: https://pandas.pydata.org/pandas-docs/stable/user_guide/indexing.html#returning-a-view-versus-a-copy\n",
      "  duplicates[\"Grouped\"] = duplicates.groupby(\"Order ID\")[\"Product\"].transform(lambda x:\",\".join(x))    # the lambda function takes the values from all the different rows with the same order id and groups them together\n"
     ]
    }
   ],
   "source": [
    "duplicates[\"Grouped\"] = duplicates.groupby(\"Order ID\")[\"Product\"].transform(lambda x:\",\".join(x))    # the lambda function takes the values from all the different rows with the same order id and groups them together"
   ]
  },
  {
   "cell_type": "markdown",
   "metadata": {},
   "source": [
    "now we can drop the duplicates"
   ]
  },
  {
   "cell_type": "code",
   "execution_count": 75,
   "metadata": {},
   "outputs": [
    {
     "data": {
      "text/html": [
       "<div>\n",
       "<style scoped>\n",
       "    .dataframe tbody tr th:only-of-type {\n",
       "        vertical-align: middle;\n",
       "    }\n",
       "\n",
       "    .dataframe tbody tr th {\n",
       "        vertical-align: top;\n",
       "    }\n",
       "\n",
       "    .dataframe thead th {\n",
       "        text-align: right;\n",
       "    }\n",
       "</style>\n",
       "<table border=\"1\" class=\"dataframe\">\n",
       "  <thead>\n",
       "    <tr style=\"text-align: right;\">\n",
       "      <th></th>\n",
       "      <th>Order ID</th>\n",
       "      <th>Grouped</th>\n",
       "    </tr>\n",
       "  </thead>\n",
       "  <tbody>\n",
       "    <tr>\n",
       "      <th>3</th>\n",
       "      <td>176560</td>\n",
       "      <td>Google Phone,Wired Headphones</td>\n",
       "    </tr>\n",
       "    <tr>\n",
       "      <th>18</th>\n",
       "      <td>176574</td>\n",
       "      <td>Google Phone,USB-C Charging Cable</td>\n",
       "    </tr>\n",
       "    <tr>\n",
       "      <th>30</th>\n",
       "      <td>176585</td>\n",
       "      <td>Bose SoundSport Headphones,Bose SoundSport Hea...</td>\n",
       "    </tr>\n",
       "    <tr>\n",
       "      <th>32</th>\n",
       "      <td>176586</td>\n",
       "      <td>AAA Batteries (4-pack),Google Phone</td>\n",
       "    </tr>\n",
       "    <tr>\n",
       "      <th>119</th>\n",
       "      <td>176672</td>\n",
       "      <td>Lightning Charging Cable,USB-C Charging Cable</td>\n",
       "    </tr>\n",
       "    <tr>\n",
       "      <th>...</th>\n",
       "      <td>...</td>\n",
       "      <td>...</td>\n",
       "    </tr>\n",
       "    <tr>\n",
       "      <th>186781</th>\n",
       "      <td>259296</td>\n",
       "      <td>Apple Airpods Headphones,Apple Airpods Headphones</td>\n",
       "    </tr>\n",
       "    <tr>\n",
       "      <th>186783</th>\n",
       "      <td>259297</td>\n",
       "      <td>iPhone,Lightning Charging Cable,Lightning Char...</td>\n",
       "    </tr>\n",
       "    <tr>\n",
       "      <th>186791</th>\n",
       "      <td>259303</td>\n",
       "      <td>34in Ultrawide Monitor,AA Batteries (4-pack)</td>\n",
       "    </tr>\n",
       "    <tr>\n",
       "      <th>186803</th>\n",
       "      <td>259314</td>\n",
       "      <td>Wired Headphones,AAA Batteries (4-pack)</td>\n",
       "    </tr>\n",
       "    <tr>\n",
       "      <th>186841</th>\n",
       "      <td>259350</td>\n",
       "      <td>Google Phone,USB-C Charging Cable</td>\n",
       "    </tr>\n",
       "  </tbody>\n",
       "</table>\n",
       "<p>7136 rows × 2 columns</p>\n",
       "</div>"
      ],
      "text/plain": [
       "        Order ID                                            Grouped\n",
       "3         176560                      Google Phone,Wired Headphones\n",
       "18        176574                  Google Phone,USB-C Charging Cable\n",
       "30        176585  Bose SoundSport Headphones,Bose SoundSport Hea...\n",
       "32        176586                AAA Batteries (4-pack),Google Phone\n",
       "119       176672      Lightning Charging Cable,USB-C Charging Cable\n",
       "...          ...                                                ...\n",
       "186781    259296  Apple Airpods Headphones,Apple Airpods Headphones\n",
       "186783    259297  iPhone,Lightning Charging Cable,Lightning Char...\n",
       "186791    259303       34in Ultrawide Monitor,AA Batteries (4-pack)\n",
       "186803    259314            Wired Headphones,AAA Batteries (4-pack)\n",
       "186841    259350                  Google Phone,USB-C Charging Cable\n",
       "\n",
       "[7136 rows x 2 columns]"
      ]
     },
     "execution_count": 75,
     "metadata": {},
     "output_type": "execute_result"
    }
   ],
   "source": [
    "duplicates = duplicates[[\"Order ID\",\"Grouped\"]].drop_duplicates()\n",
    "duplicates"
   ]
  },
  {
   "cell_type": "markdown",
   "metadata": {},
   "source": [
    "next we need to count which pairs appear the most this row and for that we will need the following functions from these two libraries"
   ]
  },
  {
   "cell_type": "code",
   "execution_count": 76,
   "metadata": {},
   "outputs": [],
   "source": [
    "from itertools import combinations\n",
    "from collections import Counter"
   ]
  },
  {
   "cell_type": "code",
   "execution_count": 119,
   "metadata": {},
   "outputs": [
    {
     "data": {
      "text/html": [
       "<div>\n",
       "<style scoped>\n",
       "    .dataframe tbody tr th:only-of-type {\n",
       "        vertical-align: middle;\n",
       "    }\n",
       "\n",
       "    .dataframe tbody tr th {\n",
       "        vertical-align: top;\n",
       "    }\n",
       "\n",
       "    .dataframe thead th {\n",
       "        text-align: right;\n",
       "    }\n",
       "</style>\n",
       "<table border=\"1\" class=\"dataframe\">\n",
       "  <thead>\n",
       "    <tr style=\"text-align: right;\">\n",
       "      <th></th>\n",
       "      <th>Order ID</th>\n",
       "      <th>Product</th>\n",
       "      <th>Quantity</th>\n",
       "      <th>Unit Price</th>\n",
       "      <th>Total Price</th>\n",
       "      <th>Address</th>\n",
       "      <th>State</th>\n",
       "      <th>City</th>\n",
       "      <th>Zip code</th>\n",
       "      <th>Order Date</th>\n",
       "      <th>Time Of Day</th>\n",
       "      <th>Month</th>\n",
       "      <th>Hour</th>\n",
       "    </tr>\n",
       "  </thead>\n",
       "  <tbody>\n",
       "    <tr>\n",
       "      <th>0</th>\n",
       "      <td>176558</td>\n",
       "      <td>USB-C Charging Cable</td>\n",
       "      <td>2</td>\n",
       "      <td>11.95</td>\n",
       "      <td>23.90</td>\n",
       "      <td>917 1st St</td>\n",
       "      <td>TX</td>\n",
       "      <td>Dallas</td>\n",
       "      <td>75001</td>\n",
       "      <td>2019-04-19 08:46:00</td>\n",
       "      <td>Morning</td>\n",
       "      <td>April</td>\n",
       "      <td>8</td>\n",
       "    </tr>\n",
       "    <tr>\n",
       "      <th>2</th>\n",
       "      <td>176559</td>\n",
       "      <td>Bose SoundSport Headphones</td>\n",
       "      <td>1</td>\n",
       "      <td>99.99</td>\n",
       "      <td>99.99</td>\n",
       "      <td>682 Chestnut St</td>\n",
       "      <td>MA</td>\n",
       "      <td>Boston</td>\n",
       "      <td>02215</td>\n",
       "      <td>2019-04-07 22:30:00</td>\n",
       "      <td>Night</td>\n",
       "      <td>April</td>\n",
       "      <td>22</td>\n",
       "    </tr>\n",
       "    <tr>\n",
       "      <th>3</th>\n",
       "      <td>176560</td>\n",
       "      <td>Google Phone</td>\n",
       "      <td>1</td>\n",
       "      <td>600.00</td>\n",
       "      <td>600.00</td>\n",
       "      <td>669 Spruce St</td>\n",
       "      <td>CA</td>\n",
       "      <td>Los Angeles</td>\n",
       "      <td>90001</td>\n",
       "      <td>2019-04-12 14:38:00</td>\n",
       "      <td>Afternoon</td>\n",
       "      <td>April</td>\n",
       "      <td>14</td>\n",
       "    </tr>\n",
       "    <tr>\n",
       "      <th>4</th>\n",
       "      <td>176560</td>\n",
       "      <td>Wired Headphones</td>\n",
       "      <td>1</td>\n",
       "      <td>11.99</td>\n",
       "      <td>11.99</td>\n",
       "      <td>669 Spruce St</td>\n",
       "      <td>CA</td>\n",
       "      <td>Los Angeles</td>\n",
       "      <td>90001</td>\n",
       "      <td>2019-04-12 14:38:00</td>\n",
       "      <td>Afternoon</td>\n",
       "      <td>April</td>\n",
       "      <td>14</td>\n",
       "    </tr>\n",
       "    <tr>\n",
       "      <th>5</th>\n",
       "      <td>176561</td>\n",
       "      <td>Wired Headphones</td>\n",
       "      <td>1</td>\n",
       "      <td>11.99</td>\n",
       "      <td>11.99</td>\n",
       "      <td>333 8th St</td>\n",
       "      <td>CA</td>\n",
       "      <td>Los Angeles</td>\n",
       "      <td>90001</td>\n",
       "      <td>2019-04-30 09:27:00</td>\n",
       "      <td>Morning</td>\n",
       "      <td>April</td>\n",
       "      <td>9</td>\n",
       "    </tr>\n",
       "    <tr>\n",
       "      <th>...</th>\n",
       "      <td>...</td>\n",
       "      <td>...</td>\n",
       "      <td>...</td>\n",
       "      <td>...</td>\n",
       "      <td>...</td>\n",
       "      <td>...</td>\n",
       "      <td>...</td>\n",
       "      <td>...</td>\n",
       "      <td>...</td>\n",
       "      <td>...</td>\n",
       "      <td>...</td>\n",
       "      <td>...</td>\n",
       "      <td>...</td>\n",
       "    </tr>\n",
       "    <tr>\n",
       "      <th>186845</th>\n",
       "      <td>259353</td>\n",
       "      <td>AAA Batteries (4-pack)</td>\n",
       "      <td>3</td>\n",
       "      <td>2.99</td>\n",
       "      <td>8.97</td>\n",
       "      <td>840 Highland St</td>\n",
       "      <td>CA</td>\n",
       "      <td>Los Angeles</td>\n",
       "      <td>90001</td>\n",
       "      <td>2019-09-17 20:56:00</td>\n",
       "      <td>Night</td>\n",
       "      <td>September</td>\n",
       "      <td>20</td>\n",
       "    </tr>\n",
       "    <tr>\n",
       "      <th>186846</th>\n",
       "      <td>259354</td>\n",
       "      <td>iPhone</td>\n",
       "      <td>1</td>\n",
       "      <td>700.00</td>\n",
       "      <td>700.00</td>\n",
       "      <td>216 Dogwood St</td>\n",
       "      <td>CA</td>\n",
       "      <td>San Francisco</td>\n",
       "      <td>94016</td>\n",
       "      <td>2019-09-01 16:00:00</td>\n",
       "      <td>Night</td>\n",
       "      <td>September</td>\n",
       "      <td>16</td>\n",
       "    </tr>\n",
       "    <tr>\n",
       "      <th>186847</th>\n",
       "      <td>259355</td>\n",
       "      <td>iPhone</td>\n",
       "      <td>1</td>\n",
       "      <td>700.00</td>\n",
       "      <td>700.00</td>\n",
       "      <td>220 12th St</td>\n",
       "      <td>CA</td>\n",
       "      <td>San Francisco</td>\n",
       "      <td>94016</td>\n",
       "      <td>2019-09-23 07:39:00</td>\n",
       "      <td>Morning</td>\n",
       "      <td>September</td>\n",
       "      <td>7</td>\n",
       "    </tr>\n",
       "    <tr>\n",
       "      <th>186848</th>\n",
       "      <td>259356</td>\n",
       "      <td>34in Ultrawide Monitor</td>\n",
       "      <td>1</td>\n",
       "      <td>379.99</td>\n",
       "      <td>379.99</td>\n",
       "      <td>511 Forest St</td>\n",
       "      <td>CA</td>\n",
       "      <td>San Francisco</td>\n",
       "      <td>94016</td>\n",
       "      <td>2019-09-19 17:30:00</td>\n",
       "      <td>Night</td>\n",
       "      <td>September</td>\n",
       "      <td>17</td>\n",
       "    </tr>\n",
       "    <tr>\n",
       "      <th>186849</th>\n",
       "      <td>259357</td>\n",
       "      <td>USB-C Charging Cable</td>\n",
       "      <td>1</td>\n",
       "      <td>11.95</td>\n",
       "      <td>11.95</td>\n",
       "      <td>250 Meadow St</td>\n",
       "      <td>CA</td>\n",
       "      <td>San Francisco</td>\n",
       "      <td>94016</td>\n",
       "      <td>2019-09-30 00:18:00</td>\n",
       "      <td>Morning</td>\n",
       "      <td>September</td>\n",
       "      <td>0</td>\n",
       "    </tr>\n",
       "  </tbody>\n",
       "</table>\n",
       "<p>185950 rows × 13 columns</p>\n",
       "</div>"
      ],
      "text/plain": [
       "        Order ID                     Product  Quantity  Unit Price  \\\n",
       "0         176558        USB-C Charging Cable         2       11.95   \n",
       "2         176559  Bose SoundSport Headphones         1       99.99   \n",
       "3         176560                Google Phone         1      600.00   \n",
       "4         176560            Wired Headphones         1       11.99   \n",
       "5         176561            Wired Headphones         1       11.99   \n",
       "...          ...                         ...       ...         ...   \n",
       "186845    259353      AAA Batteries (4-pack)         3        2.99   \n",
       "186846    259354                      iPhone         1      700.00   \n",
       "186847    259355                      iPhone         1      700.00   \n",
       "186848    259356      34in Ultrawide Monitor         1      379.99   \n",
       "186849    259357        USB-C Charging Cable         1       11.95   \n",
       "\n",
       "        Total Price          Address State           City Zip code  \\\n",
       "0             23.90       917 1st St    TX         Dallas    75001   \n",
       "2             99.99  682 Chestnut St    MA         Boston    02215   \n",
       "3            600.00    669 Spruce St    CA    Los Angeles    90001   \n",
       "4             11.99    669 Spruce St    CA    Los Angeles    90001   \n",
       "5             11.99       333 8th St    CA    Los Angeles    90001   \n",
       "...             ...              ...   ...            ...      ...   \n",
       "186845         8.97  840 Highland St    CA    Los Angeles    90001   \n",
       "186846       700.00   216 Dogwood St    CA  San Francisco    94016   \n",
       "186847       700.00      220 12th St    CA  San Francisco    94016   \n",
       "186848       379.99    511 Forest St    CA  San Francisco    94016   \n",
       "186849        11.95    250 Meadow St    CA  San Francisco    94016   \n",
       "\n",
       "                Order Date Time Of Day      Month  Hour  \n",
       "0      2019-04-19 08:46:00     Morning      April     8  \n",
       "2      2019-04-07 22:30:00       Night      April    22  \n",
       "3      2019-04-12 14:38:00   Afternoon      April    14  \n",
       "4      2019-04-12 14:38:00   Afternoon      April    14  \n",
       "5      2019-04-30 09:27:00     Morning      April     9  \n",
       "...                    ...         ...        ...   ...  \n",
       "186845 2019-09-17 20:56:00       Night  September    20  \n",
       "186846 2019-09-01 16:00:00       Night  September    16  \n",
       "186847 2019-09-23 07:39:00     Morning  September     7  \n",
       "186848 2019-09-19 17:30:00       Night  September    17  \n",
       "186849 2019-09-30 00:18:00     Morning  September     0  \n",
       "\n",
       "[185950 rows x 13 columns]"
      ]
     },
     "execution_count": 119,
     "metadata": {},
     "output_type": "execute_result"
    }
   ],
   "source": [
    "df"
   ]
  },
  {
   "cell_type": "markdown",
   "metadata": {},
   "source": [
    "we first need to turn our grouped column into a list of lists"
   ]
  },
  {
   "cell_type": "code",
   "execution_count": 77,
   "metadata": {},
   "outputs": [
    {
     "name": "stdout",
     "output_type": "stream",
     "text": [
      "('iPhone', 'Lightning Charging Cable') 1005\n",
      "('Google Phone', 'USB-C Charging Cable') 987\n",
      "('iPhone', 'Wired Headphones') 447\n",
      "('Google Phone', 'Wired Headphones') 414\n",
      "('Vareebadd Phone', 'USB-C Charging Cable') 361\n",
      "('iPhone', 'Apple Airpods Headphones') 360\n",
      "('Google Phone', 'Bose SoundSport Headphones') 220\n",
      "('USB-C Charging Cable', 'Wired Headphones') 160\n",
      "('Vareebadd Phone', 'Wired Headphones') 143\n",
      "('Lightning Charging Cable', 'Wired Headphones') 92\n"
     ]
    }
   ],
   "source": [
    "count =Counter()\n",
    "\n",
    "for row in duplicates[\"Grouped\"]:\n",
    "    row_list = row.split(\",\")                      #first we are splitting the row back to being 2 separated values\n",
    "    count.update(Counter(combinations(row_list,2)))                #next we check through all the different types of rows and see which one keep appearing and we count them\n",
    "   #count.update(Counter(combinations(row_list,3)))                #this one display which triplets of values appear and are counted.\n",
    "\n",
    "# count.most_common(10)        #this is to see the top 10\n",
    "    \n",
    "#to print out the results in a better format\n",
    "\n",
    "for key,value in count.most_common(10):\n",
    "    print(key,value)\n",
    "\n"
   ]
  },
  {
   "cell_type": "markdown",
   "metadata": {},
   "source": [
    "#### the most commonly sold pair of products is 'iPhone', 'Lightning Charging Cable' hence one way to increase future sales can be to sell these 2 products together in a bundle."
   ]
  },
  {
   "cell_type": "markdown",
   "metadata": {},
   "source": [
    "### we can also compare the price of product per unit compared to the quantity of that product sold"
   ]
  },
  {
   "cell_type": "code",
   "execution_count": 180,
   "metadata": {},
   "outputs": [],
   "source": [
    "y = product_grp[\"Quantity\"].sum().sort_values(ascending=False).values\n",
    "y\n",
    "x = product_grp[\"Quantity\"].sum().sort_values(ascending=False).index\n",
    "x\n",
    "\n",
    "y2 = product_grp[[\"Quantity\",\"Unit Price\"]].agg({\"Quantity\":\"sum\",\"Unit Price\":\"max\"}).sort_values(by=\"Quantity\",ascending=False)\n",
    "\n",
    "\n"
   ]
  },
  {
   "cell_type": "code",
   "execution_count": 182,
   "metadata": {},
   "outputs": [],
   "source": [
    "y2 = y2[\"Unit Price\"]"
   ]
  },
  {
   "cell_type": "code",
   "execution_count": 184,
   "metadata": {},
   "outputs": [
    {
     "data": {
      "text/plain": [
       "Product\n",
       "AAA Batteries (4-pack)           2.99\n",
       "AA Batteries (4-pack)            3.84\n",
       "USB-C Charging Cable            11.95\n",
       "Lightning Charging Cable        14.95\n",
       "Wired Headphones                11.99\n",
       "Apple Airpods Headphones       150.00\n",
       "Bose SoundSport Headphones      99.99\n",
       "27in FHD Monitor               149.99\n",
       "iPhone                         700.00\n",
       "27in 4K Gaming Monitor         389.99\n",
       "34in Ultrawide Monitor         379.99\n",
       "Google Phone                   600.00\n",
       "Flatscreen TV                  300.00\n",
       "Macbook Pro Laptop            1700.00\n",
       "ThinkPad Laptop                999.99\n",
       "20in Monitor                   109.99\n",
       "Vareebadd Phone                400.00\n",
       "LG Washing Machine             600.00\n",
       "LG Dryer                       600.00\n",
       "Name: Unit Price, dtype: float64"
      ]
     },
     "execution_count": 184,
     "metadata": {},
     "output_type": "execute_result"
    }
   ],
   "source": [
    "y2"
   ]
  },
  {
   "cell_type": "code",
   "execution_count": 187,
   "metadata": {},
   "outputs": [
    {
     "data": {
      "image/png": "[encoded data removed]",
      "text/plain": [
       "<Figure size 1400x600 with 2 Axes>"
      ]
     },
     "metadata": {},
     "output_type": "display_data"
    }
   ],
   "source": [
    "plt.figure(figsize=(14,6))\n",
    "plt.title(\"Total Quantity Sold and Max Unit Price Per Product\")\n",
    "\n",
    "\n",
    "ax1 = plt.gca()  # Get the current axes instance\n",
    "bars = ax1.bar(range(len(y)), y, width=0.4, label='Total Quantity Sold', color='b', alpha=0.3)\n",
    "\n",
    "\n",
    "\n",
    "\n",
    "\n",
    "ax2 = ax1.twinx()\n",
    "line = ax2.plot(range(len(x)), y2, color='r', marker='o', linestyle='-', linewidth=2, markersize=5, label='Max Unit Price')\n",
    "\n",
    "\n",
    "\n",
    "ax1.set_ylabel('Total Quantity Sold', color='b')\n",
    "ax1.tick_params('y', colors='b')\n",
    "ax2.set_ylabel('Max Unit Price', color='r')\n",
    "ax2.tick_params('y', colors='r')\n",
    "ax1.set_xticks(range(len(x)))\n",
    "ax1.set_xticklabels(x, rotation=90)\n",
    "plt.grid()\n",
    "plt.show()\n"
   ]
  },
  {
   "cell_type": "markdown",
   "metadata": {},
   "source": [
    "#### as we can see there seems to be a trend of low price = high quantity sold and vice versa but it is kind of seems to plateau when price reaches around the 200$ band. Further test are require to confirm the correlation"
   ]
  }
 ],
 "metadata": {
  "kernelspec": {
   "display_name": "Python 3",
   "language": "python",
   "name": "python3"
  },
  "language_info": {
   "codemirror_mode": {
    "name": "ipython",
    "version": 3
   },
   "file_extension": ".py",
   "mimetype": "text/x-python",
   "name": "python",
   "nbconvert_exporter": "python",
   "pygments_lexer": "ipython3",
   "version": "3.9.16"
  }
 },
 "nbformat": 4,
 "nbformat_minor": 2
}
